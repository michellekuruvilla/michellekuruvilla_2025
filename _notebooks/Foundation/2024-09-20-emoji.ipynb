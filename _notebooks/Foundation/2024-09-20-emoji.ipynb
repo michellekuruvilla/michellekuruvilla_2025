{
 "cells": [
  {
   "cell_type": "raw",
   "metadata": {
    "vscode": {
     "languageId": "raw"
    }
   },
   "source": [
    "---\n",
    "layout: post\n",
    "title: My Emoji Notebook\n",
    "description: This is a Jupyter Notebook where I put my emojis \n",
    "permalink: /emoji/\n",
    "---"
   ]
  },
  {
   "cell_type": "code",
   "execution_count": 5,
   "metadata": {},
   "outputs": [
    {
     "name": "stdout",
     "output_type": "stream",
     "text": [
      "😀\n",
      "🤣\n"
     ]
    }
   ],
   "source": [
    "# Display emoji using Unicode\n",
    "print(\"\\U0001F600\")  # Grinning Face\n",
    "print(\"\\U0001F923\")  # Rolling on the Floor Laughing\n"
   ]
  }
 ],
 "metadata": {
  "kernelspec": {
   "display_name": "Python 3",
   "language": "python",
   "name": "python3"
  },
  "language_info": {
   "codemirror_mode": {
    "name": "ipython",
    "version": 3
   },
   "file_extension": ".py",
   "mimetype": "text/x-python",
   "name": "python",
   "nbconvert_exporter": "python",
   "pygments_lexer": "ipython3",
   "version": "3.12.3"
  }
 },
 "nbformat": 4,
 "nbformat_minor": 2
}
