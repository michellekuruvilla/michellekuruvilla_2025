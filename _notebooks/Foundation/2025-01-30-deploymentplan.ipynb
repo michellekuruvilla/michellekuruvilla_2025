{
 "cells": [
  {
   "cell_type": "raw",
   "metadata": {
    "vscode": {
     "languageId": "raw"
    }
   },
   "source": [
    "---\n",
    "layout: post\n",
    "title: My Deployment Plan And Notes\n",
    "description: This is a Jupyter Notebook where I discuss my deployment plan, and store notes on deployment from college board videos.\n",
    "permalink: /deployment/\n",
    "---"
   ]
  },
  {
   "cell_type": "markdown",
   "metadata": {},
   "source": [
    "## 4.1 Notes (Video 1) \n",
    "- Computers have evolved over time, becoming smaller and more efficient while using routers and other devices for communication..\n",
    "- They \"talk\" to each other using number systems, breaking data into ones and zeros for transmission.\n",
    "- A packet is a group of numbers that carries information between devices.\n",
    "- A computer network is a collection of interconnected computing devices that can send and receive data.\n",
    "- Packet Switching: Messages (files) are divided into packets and sent in any order. The recipient's device reassembles them upon arrival.\n",
    "- A path between two computing devices consists of a sequence of directly connected devices, starting at the sender and ending at the receiver.\n",
    "- Routing is the process of determining the most efficient path for data to travel.\n",
    "- Computers rely on communication to streamline tasks, with packets facilitating the movement of information in bits.\n",
    "<br> <img width=\"302\" alt=\"Image\" src=\"https://networkencyclopedia.com/wp-content/uploads/2019/10/packet-switching.png\">"
   ]
  },
  {
   "cell_type": "markdown",
   "metadata": {},
   "source": [
    "## 4.1 Notes (Video 2)\n",
    "- The Internet Engineering Task Force (IETF) manages internet standards and technical discussions through an open, collaborative process.\n",
    "- OSI Model (Open Systems Interconnect) defines seven layers of protocols required for network communication.\n",
    "- TCP (Transmission Control Protocol) establishes a standardized method for sending messages between internet-connected devices.\n",
    "- Network Access Layer: Handles hardware-related connections, such as network cards or cables.\n",
    "- Internet Protocol (IP) Layer: Transfers data using packets containing metadata, including IP addresses, to direct information through routers.\n",
    "- Transport Layer: Uses TCP (which follows a strict three-way handshake) and UDP (a more relaxed protocol) to enforce rules for data transmission.\n",
    "- Application Layer: Runs programs on internet-connected devices and provides clients with webpages.\n",
    "IP Addresses help direct packets to their intended destinations, allowing routers to manage the flow of information."
   ]
  },
  {
   "cell_type": "markdown",
   "metadata": {},
   "source": [
    "## 4.2 Notes (Video 1)\n",
    "- Fault tolerance ensures that the internet can function even when failures occur within the system.\n",
    "- Networks can be physically connected through wiring, and increasing the number of connections improves communication speed.\n",
    "- Fewer paths increase the likelihood of network failures disconnecting devices.\n",
    "- Redundancy helps networks remain operational despite errors, enhancing fault tolerance. If one path fails, other devices can still communicate.\n",
    "- If a single failure disrupts the entire system, the design is flawed. The internet remains reliable due to its fault tolerance."
   ]
  },
  {
   "cell_type": "markdown",
   "metadata": {},
   "source": [
    "## 4.2 Notes (Video 2)\n",
    "- Networks can scale as more devices are added. Interconnected networks with redundancy adapt to changing routes.\n",
    "- Data does not follow a single route but instead finds the quickest and most reliable path.\n",
    "Redundancy ensures network reliability, even if a device or connection fails.\n",
    "- More connections strengthen networks, enabling them to expand and adapt while maintaining efficiency.\n",
    "- The internet exemplifies fault tolerance, allowing new devices to integrate seamlessly while preventing disruptions.\n"
   ]
  },
  {
   "cell_type": "markdown",
   "metadata": {},
   "source": [
    "## 4.3 Notes\n",
    "- Computers perform multiple system tasks (which keep the system running) and user tasks (selected by users).\n",
    "- Tasks are often executed sequentially (A → B → C), meaning one task must finish before the next can begin.\n",
    "- Parallel Computing divides a program into multiple operations, some of which run simultaneously.\n",
    "- Parallel computing is hardware-driven, enabling faster processing and optimizing data communication. It is commonly used in gaming.\n",
    "- The longest-running task in parallel computing determines the total completion time, making it far more efficient than sequential execution.\n",
    "- Distributed Computing involves multiple computers working together to run a program.\n",
    "- It integrates both sequential and parallel computing for optimized performance."
   ]
  }
 ],
 "metadata": {
  "language_info": {
   "name": "python"
  }
 },
 "nbformat": 4,
 "nbformat_minor": 2
}
