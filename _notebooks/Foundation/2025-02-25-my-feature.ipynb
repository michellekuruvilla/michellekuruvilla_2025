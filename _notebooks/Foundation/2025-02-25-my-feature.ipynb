{
 "cells": [
  {
   "cell_type": "raw",
   "metadata": {
    "vscode": {
     "languageId": "raw"
    }
   },
   "source": [
    "---\n",
    "layout: post\n",
    "title: My Work on my Vacations feature, And Investment In Other Projects.\n",
    "description: This is a Jupyter Notebook where I explain the purpose of my feature on our website.\n",
    "permalink: /myfeature/\n",
    "---"
   ]
  },
  {
   "cell_type": "markdown",
   "metadata": {},
   "source": [
    "# 🚀 Major Achievements This Trimester – Travelers' Website 🌍  \n",
    "\n",
    "Over the past 12 weeks, I have made significant advancements in **full-stack development, database management, and cloud deployment**, particularly in my work on the **Vacations Feature** for our Travelers' Website. Below are five key accomplishments that showcase my technical growth and problem-solving skills.  \n",
    "\n",
    "## 1️⃣ **Built a Dynamic User-Generated Content System**  \n",
    "🔹 Designed and implemented a **frontend layout** allowing users to **submit and view recommended travel destinations**.  \n",
    "🔹 Integrated **real-time updates**, ensuring user-submitted destinations appear dynamically on the site.  \n",
    "🔹 Strengthened my understanding of **UI/UX principles** and **frontend frameworks**.  \n",
    "\n",
    "## 2️⃣ **Connected Frontend to a Fully Functional Backend**  \n",
    "🔹 Developed a robust connection between the **frontend and backend**, allowing seamless **data transmission**.  \n",
    "🔹 Ensured smooth **data handling** through proper API calls and state management.  \n",
    "🔹 Learned how to **handle user input efficiently** and maintain data integrity across sessions.  \n",
    "\n",
    "## 3️⃣ **Integrated a Cloud-Hosted Database on AWS**  \n",
    "🔹 Configured a **live database on AWS Cockpit** to store and manage user-generated destinations.  \n",
    "🔹 Implemented **database interactions** to allow **persistent data storage and retrieval**.  \n",
    "🔹 Expanded my knowledge of **cloud computing, server management, and remote database handling**.  \n",
    "\n",
    "## 4️⃣ **Diagnosed and Resolved Backend Data Persistence Issues**  \n",
    "🔹 Identified why **only static data appeared** when querying the database and successfully debugged the issue.  \n",
    "🔹 Improved my skills in **database queries, API request handling, and backend optimization**.  \n",
    "🔹 Strengthened my ability to **troubleshoot and debug real-world production issues**.  \n",
    "\n",
    "## 5️⃣ **Integrated My Feature into a Larger Full-Stack Application**  \n",
    "🔹 Successfully **integrated the Vacations Feature** into our team’s full-stack website.  \n",
    "🔹 Ensured my feature worked **seamlessly within a collaborative development environment**.  \n",
    "🔹 Learned to navigate **team-based development, version control, and full project deployment**.  \n",
    "\n",
    "---\n",
    "\n",
    "### 🎯 **Key Takeaways**  \n",
    "✅ Mastered **frontend-backend integration** and handling **real-time user input**.  \n",
    "✅ Gained hands-on experience in **AWS-hosted databases and cloud deployment**.  \n",
    "✅ Strengthened debugging skills by solving **data persistence and API-related challenges**.  \n",
    "✅ Successfully **collaborated in a full-stack project**, demonstrating adaptability and teamwork.  \n",
    "\n",
    "These accomplishments mark a **huge leap** in my technical skills and problem-solving abilities, positioning me as a strong developer in **full-stack web development and cloud-based applications**. 🚀  \n",
    "\n"
   ]
  },
  {
   "cell_type": "markdown",
   "metadata": {
    "vscode": {
     "languageId": "plaintext"
    }
   },
   "source": [
    " ## 🔍 Future Plans in Computer Science 🚀  \n",
    "\n",
    "As I continue my journey in **Computer Science**, I am considering various paths, including:  \n",
    "- Exploring advanced **full-stack development** with more complex **databases and cloud services**.  \n",
    "- Taking on **internships** to gain real-world experience in software development.  \n",
    "- Enrolling in **college courses** that focus on **backend engineering, data science, and cybersecurity**.  \n",
    "- Researching career paths in **web development, AI, and cloud computing**.  \n",
    "\n",
    "## 💡 Self-Reflection: Strengths & Weaknesses  \n",
    "\n",
    "### ✅ Strengths:  \n",
    "- Strong understanding of **frontend-backend integration**.  \n",
    "- Experience in **debugging and troubleshooting** real-world technical issues.  \n",
    "- Ability to **collaborate in a team** and work on full-stack applications.  \n",
    "- Confidence in implementing **user-generated content features** and database handling.  \n",
    "\n",
    "### ❌ Weaknesses & Areas for Growth:  \n",
    "- Need to deepen knowledge of **security best practices** for web applications.  \n",
    "- Improve efficiency in **query optimization and API performance tuning**.  \n",
    "- Gain more hands-on experience with **large-scale cloud infrastructure**.  \n",
    "- I had Mr Brown For Trimester 1 so I was unfamiliar with many skills needed in order for me to thrive this trimester, compared to the kids who had you last trimester, but I worked hard and dedicated many hours outside of school in gaining larger understanding of the skills needed to succeed in this class.w\n",
    "\n",
    "## 📌 Project Reflection & Next Steps  \n",
    "\n",
    "### 🌟 Strengths of the Travelers' Website Project:  \n",
    "- Successfully built a **dynamic vacations feature** that integrates **frontend, backend, and databases**.  \n",
    "- Debugged and **resolved critical data persistence issues**.  \n",
    "- Learned how to work with **AWS-hosted databases** and improve **data storage reliability**.  \n",
    "\n",
    "### 🔄 Next Steps & Improvements:  \n",
    "- Enhance the **vacations feature** with **better filtering and search functionalities**.  \n",
    "- Implement **user authentication** so users can track and manage their added destinations.  \n",
    "- Optimize API calls to ensure **faster data retrieval and performance**.  \n",
    "- Expand my skills by working on **new features or projects that involve AI or automation**.  \n",
    "\n",
    "This trimester has been a period of **major growth** in my Computer Science journey, and I am excited to keep building, learning, and exploring new opportunities! 🚀  \n"
   ]
  },
  {
   "cell_type": "markdown",
   "metadata": {},
   "source": [
    "## Interest In Another Group's Project\n",
    "(notes taken the day of Night At The Museum)\n",
    "\n",
    "<a href=\"https://github.com/michellekuruvilla/michellekuruvilla_2025/issues/7\" target=\"_blank\">\n",
    "    <button style=\"background-color:#0366d6; color:white; padding:10px 15px; border:none; border-radius:5px; font-size:16px; cursor:pointer;\">\n",
    "        View GitHub Issue\n",
    "    </button>\n",
    "</a>\n",
    "\n",
    "<img src=\"https://github.com/user-attachments/assets/d9673c9c-db01-4b73-9618-52fb83247e50\" width=\"200\">\n",
    "<img src=\"https://github.com/user-attachments/assets/97dfaeb6-f03f-48ed-941f-b5bea309956e\" width=\"200\">\n",
    "<img src=\"https://github.com/user-attachments/assets/bf62d9ee-513e-4f77-93c6-df42a717b449\" width=\"200\">\n",
    "<img src=\"https://github.com/user-attachments/assets/8c786c02-7492-4868-aabb-3aedaf74c064\" width=\"200\">\n",
    "\n"
   ]
  },
  {
   "cell_type": "markdown",
   "metadata": {},
   "source": [
    "## Someone New to Me That I Helped Organize Final Exam Materials For.\n",
    "Name of student I helped: Arshia Deb Roy\n",
    "\n",
    "I helped her prepare for her live review by timing her, making sure she was heavily practiced, and had everything ready in her blogs! I messaged her on Slack to schedule a meet up day to practice for our final. \n",
    "\n",
    "\n",
    "\n"
   ]
  },
  {
   "cell_type": "markdown",
   "metadata": {},
   "source": [
    "## My KanBan Board\n",
    "Throughout this trimester, me and my team have been organizing our ideas for our website into a Kanban board, making checklists to manage each members' required additions to their feature. \n",
    "\n",
    "<img src=\"https://github.com/user-attachments/assets/24928e75-1100-4240-800f-9ceeafb3c98d\" alt=\"Image with Border\" \n",
    "style=\"border: 4px solid #0366d6; border-radius: 8px; padding: 4px;\">\n",
    "\n",
    "\n"
   ]
  },
  {
   "cell_type": "markdown",
   "metadata": {},
   "source": [
    "## User Feedback and Reviews\n",
    "Our group took the time to make a QR code that lead people from the night at the museum to a short survey in which they could review our individual features or project as a whole that we have dedicated to working on this trimester.\n",
    "\n",
    "<a href=\"https://docs.google.com/forms/d/1fogp0C0m7OkrqQPPtptr8jbia846Uju2pPUtYBbxEiQ/edit#responses\">\n",
    "    <button style=\"background-color: #4CAF50; color: white; padding: 15px 32px; text-align: center; text-decoration: none; display: inline-block; font-size: 16px; margin: 4px 2px; cursor: pointer; border-radius: 12px; border: none; transition: background-color 0.3s;\">\n",
    "        View Google Form\n",
    "    </button>\n",
    "</a>\n",
    "\n"
   ]
  },
  {
   "cell_type": "markdown",
   "metadata": {},
   "source": [
    "## Most Importantly, here is the final product of our website!\n",
    "\n",
    "<a href=\"https://annie0523.github.io/travelor_frontend/\" class=\"gorgeous-button\" target=\"_blank\">Visit Travelor</a>\n",
    "\n",
    "<style>\n",
    "    .gorgeous-button {\n",
    "        background: linear-gradient(45deg, #ff7e5f, #feb47b); /* Beautiful gradient */\n",
    "        color: white;\n",
    "        padding: 15px 30px;\n",
    "        font-size: 18px;\n",
    "        font-weight: bold;\n",
    "        border: none;\n",
    "        border-radius: 50px;\n",
    "        text-align: center;\n",
    "        text-decoration: none;\n",
    "        display: inline-block;\n",
    "        box-shadow: 0 10px 20px rgba(0, 0, 0, 0.2);\n",
    "        transition: all 0.3s ease;\n",
    "    }\n",
    "\n",
    "    .gorgeous-button:hover {\n",
    "        background: linear-gradient(45deg, #feb47b, #ff7e5f); /* Inverted gradient on hover */\n",
    "        box-shadow: 0 15px 30px rgba(0, 0, 0, 0.3); /* Bigger shadow on hover */\n",
    "        transform: translateY(-5px); /* Slight lift on hover */\n",
    "    }\n",
    "\n",
    "    .gorgeous-button:active {\n",
    "        transform: translateY(2px); /* Button presses down when clicked */\n",
    "    }\n",
    "</style>\n",
    "\n",
    "    \n"
   ]
  }
 ],
 "metadata": {
  "language_info": {
   "name": "python"
  }
 },
 "nbformat": 4,
 "nbformat_minor": 2
}
