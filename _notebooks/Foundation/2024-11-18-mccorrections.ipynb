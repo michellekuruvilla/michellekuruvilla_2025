{
 "cells": [
  {
   "cell_type": "markdown",
   "metadata": {},
   "source": [
    "---\n",
    "layout: post\n",
    "title: MC Corrections\n",
    "description: College Board MC Questions\n",
    "---"
   ]
  },
  {
   "cell_type": "markdown",
   "metadata": {},
   "source": [
    "Summary of things I learned: I learned how you can make your code simpler and more efficient by breaking variables into smaller, more reusable functions. I learned about booleans and how they are a type of data type that have two outputs only, (true, false). I definetley recognized a lot of the weaknesses I had, and I got a lot wrong on the MC. Some examples of things I got wrong was ethical, and privacy concerns in coding, and what the missing code in the segnment is. I learned how to use loops to repeat code, and using conditional statements to make that happen. My strengths were in questons of the form of how we can move something into the grey box, using booleans, etc. \n",
    "\n",
    "\n",
    "What I got wrong: "
   ]
  },
  {
   "cell_type": "markdown",
   "metadata": {},
   "source": [
    "Q1: Which of the following can be used to replace missing code so that the code segment works as intended?\n",
    "\n",
    "I chose answer C, temp<----first\n",
    "\n",
    "Why its wrong: This option is incorrect. The code segment never changes the value of second. The correct answer was D"
   ]
  },
  {
   "cell_type": "markdown",
   "metadata": {},
   "source": [
    "Q2: A bank customer receives an e-mail from a sender claiming to be a bank employee. The e-mail asks the customer to provide personal information and to call a phone number if he or she has any questions. The customer suspects the e-mail might be a phishing attempt. Which of the following responses is most likely to be a privacy risk for the bank customer?\n",
    "\n",
    "My Answer: Checking that the domain name of the sender’s e-mail address is associated with the bank\n",
    "\n",
    "This is wrong. Checking the domain name of the sender’s email address would help verify whether or not the e-mail was legitimate.\n"
   ]
  },
  {
   "cell_type": "markdown",
   "metadata": {},
   "source": [
    "Q3: A programmer is creating an algorithm to set the value of One word, ticket Price based on the information in the table. The programmer uses the integer  variable age for the age of the moviegoer. The Boolean variable One word, is 3 D is true when the movie is 3-D and false otherwise.\n",
    "\n",
    "Which of the following code segments correctly sets the value of One word, ticket Price ?\n",
    "\n",
    "My answer was A, this is wrong because this code segment will set One word, ticket Price to 17 for all 3-D movies, regardless of the age of the purchaser."
   ]
  },
  {
   "cell_type": "markdown",
   "metadata": {},
   "source": [
    "Q5:Which of the following code segments correctly sets the value of One word, ticket Price ?\n",
    "\n",
    "I chose A. This option is incorrect. This code segment will set One word, ticket Price to 17 for all 3-D movies, regardless of the age of the purchaser."
   ]
  },
  {
   "cell_type": "markdown",
   "metadata": {},
   "source": [
    "Q6: Which of the following best describes the role of the Internet Engineering Task Force (IETF) ?\n",
    "\n",
    "Answer B\n",
    "This option is incorrect. The IETF does not prevent copyrighted materials from being distributed online."
   ]
  },
  {
   "cell_type": "markdown",
   "metadata": {},
   "source": [
    "Q9: Which of the following best describes one of the benefits of using an iterative and incremental process of program development?\n",
    "\n",
    "Answer C\n",
    "This option is incorrect. The use of low-level abstractions is unrelated to the development process used.\n"
   ]
  },
  {
   "cell_type": "markdown",
   "metadata": {},
   "source": [
    "Q11: A spinner is divided into three sections. The sector labeled Red is four times as large as each of the sectors labeled Blue and Yellow, which are of equal size.\n",
    "\n",
    "Answer B\n",
    "This option is incorrect. The code segment simulates a spinner in which selecting each of three sections is equally likely.\n",
    "\n",
    "\n"
   ]
  },
  {
   "cell_type": "markdown",
   "metadata": {},
   "source": [
    "Q12: The researchers noticed that the total number of registered users appears to be increasing at about a constant rate. If this pattern continues, which of the following best approximates the total number of registered users, in millions, in year 12 (two years after the last entry in the table) ?\n",
    "\n",
    "The option C, 31.8, is incorrect. The approximation 31.8 million would be a better estimate for year 13."
   ]
  },
  {
   "cell_type": "markdown",
   "metadata": {},
   "source": [
    "Q13: Which of the following hypotheses is most consistent with the data in the table?\n",
    "\n",
    "Answer B\n",
    "This option is incorrect. The number of registered users continued to increase after the mobile app was released.\n"
   ]
  },
  {
   "cell_type": "markdown",
   "metadata": {},
   "source": [
    "Q14: Which of the following best compares the values displayed by programs A and B?\n",
    "\n",
    "Answer B\n",
    "This option is incorrect. The programs display different values."
   ]
  },
  {
   "cell_type": "markdown",
   "metadata": {},
   "source": [
    "Q15: Which of the following is a true statement about Internet communication?\n",
    "Answer A\n",
    "This option is incorrect. Devices running different operating systems can communicate over the Internet.\n",
    "Answer C\n",
    "This option is correct. Connecting new devices to the Internet is enabled by assignment of an IP address.\n"
   ]
  },
  {
   "cell_type": "markdown",
   "metadata": {},
   "source": [
    "Q16: A user reads reviews of a popular artist’s new album and then downloads the album from the Web site of a licensed online music seller. Which of the following is LEAST likely to be a consequence of this action?\n",
    "\n",
    "Answer A\n",
    "This option is incorrect. Details of a user’s browsing history can be stored in cookies, which could be used to deliver targeted advertisements on another Web site.\n",
    "\n",
    "Answer D: The user will be in violation of the Digital Millennium Copyright Act (DMCA). this one is correct"
   ]
  },
  {
   "cell_type": "markdown",
   "metadata": {},
   "source": [
    "Q17: Which of the following actions could be used to help reduce the digital divide?\n",
    "\n",
    "I.   Providing free education and training on how to use computing devices\n",
    "II.  Providing free or low-cost computing devices to low-income individuals\n",
    "III. Providing networks and infrastructure to people in remote areas\n",
    "\n",
    "correct:I, II, and III\n",
    "\n",
    "why Im wrong:  lack of access to networks contributes to the digital divide. This issue could be addressed by providing networks and infrastructure."
   ]
  },
  {
   "cell_type": "markdown",
   "metadata": {},
   "source": [
    "Q18: A population researcher is interested in predicting the number of births that will occur in a particular community. She created a computer model that uses data from the past ten years, including number of residents and the number of babies born. The model predicted that there would be 200 births last year, but the actual number of births last year was only 120. Which of the following strategies is LEAST likely to provide a more accurate prediction?\n",
    "\n",
    "Answer C\n",
    "This option is correct. Removing details from the model may help it run quickly, but is unlikely to provide more accurate results."
   ]
  },
  {
   "cell_type": "markdown",
   "metadata": {},
   "source": [
    "Q19: A library of e-books contains metadata for each book. The metadata are intended to help a search feature find books that users are interested in. Which of the following is LEAST likely to be contained in the metadata of each e-book?\n",
    "\n",
    "Answer A\n",
    "This option is correct. Metadata for an e-book would typically be used to provide descriptive information about the book. Previous versions of the e-book would likely be considered data, not metadata.\n"
   ]
  },
  {
   "cell_type": "markdown",
   "metadata": {},
   "source": [
    "Q20: An application program interface (API) provides a procedure Max, which returns the greater of its two integer arguments.\n",
    "\n",
    "A programmer would like to find the greatest of three integer values a, b, and c. Which of the following expressions will produce the desired result in every case?\n",
    "\n",
    "Answer A\n",
    "This option is correct. This expression will first determine the maximum of a and b and then determine the maximum of the resulting value and c. This will result in the maximum of all three values.\n"
   ]
  },
  {
   "cell_type": "markdown",
   "metadata": {},
   "source": [
    "Q21: Which of the following code segments will move the robot to the gray square?\n",
    "Answer B\n",
    "This option is correct. This code segment moves the robot forward two squares, rotates it right three times so that the robot faces the top of the grid, and then moves the robot forward three squares to the gray square.\n"
   ]
  },
  {
   "cell_type": "markdown",
   "metadata": {},
   "source": [
    "Q23: The following figures represent different ways of configuring a network of physically linked computers labeled P, Q, R, and S. A line between two computers indicates that the computers can communicate directly with each other. In which configuration is it NOT possible to have redundant routing between computers P and S?\n",
    "\n",
    "Answer B\n",
    "This option is correct. Redundant routing is impossible if there is only one possible path from one device to another. There is only one possible path from P to S (P to R to Q to S).\n",
    "\n"
   ]
  },
  {
   "cell_type": "markdown",
   "metadata": {},
   "source": [
    "Q28: A text-editing application uses binary sequences to represent each of 200 different characters. What is the minimum number of bits needed to assign a unique bit sequence to each of the possible characters?\n",
    "\n",
    "Answer D\n",
    "This option is correct. Using 8 bits will allow for up to 256 characters open parenthesis, 2 raised to the eighth power equals 256, close parenthesis.\n"
   ]
  },
  {
   "cell_type": "markdown",
   "metadata": {},
   "source": [
    "Q29: For which of the following input values will the circuit have an output of false ?\n",
    "Answer A\n",
    "This option is correct. With these inputs, the AND gate will produce an output of false and the first OR gate will produce an output of false. Since both inputs to the second OR gate will be false, the circuit will have an output of false.\n"
   ]
  },
  {
   "cell_type": "markdown",
   "metadata": {},
   "source": [
    "Q30: Which of the following best approximates the amount of time it takes the program to execute?\n",
    "\n",
    "Answer D\n",
    "This option is correct. Each call to the Analysis procedure requires one hour of program execution time. The procedure is called\n",
    "once before the loop, and then four times inside the loop (once for each of the four entries in One word, genre List). Therefore, the program will take approximately 5 hours to execute."
   ]
  },
  {
   "cell_type": "markdown",
   "metadata": {},
   "source": [
    "Q32: Which of the following statements is true?\n",
    "\n",
    "Answer C\n",
    "This option is correct. Program I correctly moves the robot to the gray square by repeatedly moving the robot forward, rotating left, moving forward, and rotating right. Program II correctly moves the robot to the gray square by moving the robot forward to the upper-right corner of the grid, rotating left, and moving forward to the upper-left corner of the grid."
   ]
  },
  {
   "cell_type": "markdown",
   "metadata": {},
   "source": [
    "Q33: Which of the following statements is equivalent to the algorithm in the flowchart?\n",
    "Answer A\n",
    "This option is correct. The flowchart sets include to true whenever floor is greater than 1 0 or bedrooms equal 3, and sets include to false otherwise. Therefore, the algorithm is equivalent to     Include, left arrow, open parenthesis, floor greater than 10, close parenthesis, OR, open parenthesis, bedrooms equal 3, close parenthesis"
   ]
  },
  {
   "cell_type": "markdown",
   "metadata": {},
   "source": [
    "Q34: Based on the code, which of the following assumptions is made in the simulation?\n",
    "\n",
    "Answer D\n",
    "This option is correct. The number of predators is initialized at the beginning of the program but is never updated."
   ]
  },
  {
   "cell_type": "markdown",
   "metadata": {},
   "source": [
    "Q35:A musician is creating a song using audio samples. Which of the following actions will minimize the risk of a copyright violation when creating sample-based music?\n",
    "\n",
    "Answer D\n",
    "This option is correct. Creative Commons licenses can be used by creators of digital music to specify how the samples can be used by others. A no-rights-reserved license allows others to freely make use of the samples."
   ]
  },
  {
   "cell_type": "markdown",
   "metadata": {},
   "source": [
    "Q36: A computer program performs the operation 2 divided by 3 and represents the result as the value 0 point 6 6 6 6 6 6 7. Which of the following best explains this result?\n",
    "\n",
    "Answer B\n",
    "This option is correct. The fixed number of bits used to represent real numbers (as floating-point numbers) limits the range of floating-point values."
   ]
  },
  {
   "cell_type": "markdown",
   "metadata": {},
   "source": [
    "Q38: Which of the following code segments will set cost to 0 for every 10th purchase a customer makes after enrolling in the frequent customer program?\n",
    "Answer C\n",
    "This option is correct. The expression count, MOD, 10 equals 0 evaluates to true when count is a multiple of 1 0, and so this\n",
    "code segment sets cost to 0 under the appropriate conditions.\n"
   ]
  },
  {
   "cell_type": "markdown",
   "metadata": {},
   "source": [
    "Q39:Which of the following explains a benefit of using open standards and protocols for Internet communication?\n",
    "\n",
    "Answer A\n",
    "This option is correct. Open standards and protocols are used to prescribe the format of data sent over the Internet. This allows all connected hardware and software to communicate in a standard way.\n",
    "\n"
   ]
  },
  {
   "cell_type": "markdown",
   "metadata": {},
   "source": [
    "Q40: The teacher has data representing the scores of thousands of students. For each student, the data contain the student name, the midterm exam score, the final exam score, and the result of the total points calculation. Which of the following could be determined from the data?\n",
    "\n",
    "I. The average total points earned per student\n",
    "II. The average increase in total points per student as a result of the score replacement policy\n",
    "III. The proportion of students who improved their total points as a result of the score replacement policy\n",
    "\n",
    "Answer D\n",
    "This option is correct. The average total points earned per student can be determined using the result of the total points calculation\n",
    "for each student. The average increase in total points per student as a result of the score replacement policy can be determined by\n",
    "calculating the differences between each student score before and after the replacement policy was applied. The proportion of students\n",
    "who improved their total points as a result of the score replacement policy can be determined by comparing the midterm and final scores for each student with the result of the total points calculation."
   ]
  },
  {
   "cell_type": "markdown",
   "metadata": {},
   "source": [
    "Q42:Internet protocol version 4 (IPv4) represents each IP address as a 32-bit binary number. Internet protocol version 6 (IPv6) represents each IP address as a 128-bit binary number. Which of the following best describes the result of using 128-bit addresses instead of 32-bit addresses?\n",
    "\n",
    "Responses\n",
    "Answer D\n",
    "This option is correct. With 32-bit addressing, IPv4 has 2 raised to the thirty second power possible addresses. With 128-bit addressing, IPv6 has 2 raised to the one hundred twenty eighth power possible addresses. Since 2 raised to the thirty second power times 2 raised to the ninety sixth power equals 2 raised to the one hundred twenty eighth power, IPv6 has 2 raised to the ninety sixth power times as many possible addresses as IPv4."
   ]
  },
  {
   "cell_type": "markdown",
   "metadata": {},
   "source": [
    "Q43: Based on the values in the table, which of the following best characterizes the algorithm for very large values of n ?\n",
    "\n",
    "Answer A\n",
    "This option is correct. The pattern in the table appears to indicate that there are n squared steps for a list containing n items. This number of steps is a polynomial and therefore the algorithm runs in reasonable time. \n"
   ]
  },
  {
   "cell_type": "markdown",
   "metadata": {},
   "source": [
    "Q46: The problem the student is attempting to solve is considered an undecidable problem. Which of the following is true?\n",
    "\n",
    "Answer D\n",
    "This option is correct. An undecidable problem is one in which no algorithm can be constructed that always leads to a correct yes-or-no answer."
   ]
  },
  {
   "cell_type": "markdown",
   "metadata": {},
   "source": [
    "Q51: Which of the following is an example of symmetric encryption?\n",
    "Answer B\n",
    "This option is correct. This is an example of symmetric encryption because the secret key is used for both encryption and decryption of messages.\n",
    "\n"
   ]
  },
  {
   "cell_type": "markdown",
   "metadata": {},
   "source": [
    "Q52: Executing which of the following sequences of steps will enable the algorithm to work as intended?\n",
    "\n",
    "Answer D\n",
    "This option is correct. Options II and III perform the steps in a correct order. In order to generate the desired list, the algorithm must perform the \"shorten\" step after the \"keep palindromes\" step, otherwise the \"keep palindromes\" step would not be able to determine whether the original word was a palindrome."
   ]
  },
  {
   "cell_type": "markdown",
   "metadata": {},
   "source": [
    "Q54: Which of the following procedures is a generalization of the procedures described above?\n",
    "Answer D\n",
    "This option is correct. The procedures square and cube are each used to determine a power of n. A generalization of this procedure\n",
    "is Power, open parenthesis, n comma m, close parenthesis, which calculates n raised to the mpower.\n",
    "\n"
   ]
  },
  {
   "cell_type": "markdown",
   "metadata": {},
   "source": [
    "Q55: Which of the following best describes the result of running the procedure?\n",
    "Answer D\n",
    "This option is correct. The expression open parenthesis, open parenthesis, response equals, open quotation, y, close quotation, close parenthesis, AND, open parenthesis, response equals, open quotation, yes, close quotation, close parenthesis, close parenthesisalways evaluates to false because it is not possible for the variable response to be equal to both Open quotation, y, close quotation and Open quotation, yes, close quotation. Therefore, the procedure will always\n",
    "return false."
   ]
  },
  {
   "cell_type": "markdown",
   "metadata": {},
   "source": [
    "Q56: Which of the following describes the result of executing the program?\n",
    "Answer D\n",
    "This option is correct. The value of count starts at 1 and increases by twos, so it counts odd integers. The loop iterates 10\n",
    "times, adding each intermediate value of count each time. Therefore, the program displays the sum of the odd integers starting at 1 and ending at 19.\n"
   ]
  },
  {
   "cell_type": "markdown",
   "metadata": {},
   "source": [
    "Which of the following are true statements about how the Internet enables crowdsourcing?\n",
    "\n",
    "I. The Internet can provide crowdsourcing participants access to useful tools, information, and professional knowledge.\n",
    "\n",
    "II. The speed and reach of the Internet can lower geographic barriers, allowing individuals from different locations to contribute to projects.\n",
    "\n",
    "III. Using the Internet to distribute solutions across many users allows all computational problems to be solved in reasonable time, even for very large input sizes.\n",
    "\n",
    "ResponsesAnswer A\n",
    "This option is correct. The Internet can provide tools, information, and knowledge to crowdsourcing participants and can lower geographic barriers to potential participants. However, there exist problems that cannot be solved in reasonable time, even with a distributed approach.\n"
   ]
  },
  {
   "cell_type": "markdown",
   "metadata": {},
   "source": [
    "Q60: Which of the following are ways in which a programmer can use abstraction to manage the complexity of a program?\n",
    "\n",
    " Creating a list of names is an example of a data abstraction that may make it easier for a programmer to manage the complexity of a program. Placing repeated code with procedure calls is an example of a procedural abstraction that may make it easier for a programmer to manage the complexity of a program."
   ]
  },
  {
   "cell_type": "markdown",
   "metadata": {},
   "source": [
    "Q62: A free online encyclopedia contains articles that can be written and edited by any user. Which of the following are advantages the online encyclopedia has over a traditional paper-based encyclopedia?\n",
    "\n",
    "Select two answers.\n",
    "\n",
    "Answer C\n",
    "This option is correct. As any user has the ability to edit articles, there will be many opportunities for people with different perspectives to contribute."
   ]
  },
  {
   "cell_type": "markdown",
   "metadata": {},
   "source": [
    "Q64: Which of the following statements describe how cloud computing has affected Internet communication?\n",
    "\n",
    "Select two answers.\n",
    "\n",
    "Cloud computing sites must consider security concerns in order to protect their users’ private data."
   ]
  },
  {
   "cell_type": "markdown",
   "metadata": {},
   "source": [
    "Q66: For which of the following values of One word, the List will Smallest, open parenthesis, one word, the List, close parenthesis NOT return the intended value?\n",
    "\n",
    "Select two answers.\n",
    "The procedure returns the first number it encounters that is less than the first number in the list. For the list open bracket, 30, 40, 20, 10, close bracket, the procedure returns 2 0, which is not the least value in the list.\n"
   ]
  }
 ],
 "metadata": {
  "language_info": {
   "name": "python"
  }
 },
 "nbformat": 4,
 "nbformat_minor": 2
}
