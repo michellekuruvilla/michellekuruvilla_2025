{
 "cells": [
  {
   "cell_type": "raw",
   "metadata": {
    "vscode": {
     "languageId": "raw"
    }
   },
   "source": [
    "---\n",
    "layout: post\n",
    "title: My MCQ for Trimester 2 Corrections.\n",
    "description: This is a Jupyter Notebook where I blog my MCQ corrections.\n",
    "permalink: /mcqrevisions/\n",
    "---"
   ]
  },
  {
   "cell_type": "markdown",
   "metadata": {},
   "source": [
    "## My Score: 49/67\n",
    "\n",
    "Reflection: Based on this MCQ I feel that I have some studying to do for the CSP AP exam. However, compared to the beginning of the year where I practically failed the MCQ, I did much much better this time around, and I am very proud of it. "
   ]
  },
  {
   "cell_type": "markdown",
   "metadata": {},
   "source": [
    "## Analytics of Commonly Missed/Correct MCQ Questions:\n",
    "![Image](https://github.com/user-attachments/assets/b044a5b9-0f84-4470-b95a-d1d9f8ed89b9)\n"
   ]
  },
  {
   "cell_type": "markdown",
   "metadata": {},
   "source": [
    "<div style=\"font-family: 'Arial', sans-serif; background-color: #f4f4f9; padding: 20px; color: #333;\">\n",
    "    <h1 style=\"color: #4A90E2;\">Question 6:</h1>\n",
    "    <p>The following programs are each intended to move the robot to the gray square. Program II uses the procedure <code>GoalReached</code>, which returns <code>true</code> if the robot is in the gray square and returns <code>false</code> otherwise.</p>\n",
    "\n",
    "    <h2>Program 1:</h2>\n",
    "    <div style=\"font-family: 'Courier New', monospace; background-color: #f7f7f7; border-left: 5px solid #4A90E2; padding: 10px; margin: 10px 0;\">\n",
    "        REPEAT 2 TIMES<br>\n",
    "        &nbsp;&nbsp;&nbsp;&nbsp;MOVE_FORWARD<br>\n",
    "        &nbsp;&nbsp;&nbsp;&nbsp;ROTATE_LEFT<br>\n",
    "        &nbsp;&nbsp;&nbsp;&nbsp;MOVE_FORWARD<br>\n",
    "        &nbsp;&nbsp;&nbsp;&nbsp;MOVE_FORWARD<br>\n",
    "        &nbsp;&nbsp;&nbsp;&nbsp;ROTATE_RIGHT\n",
    "    </div>\n",
    "\n",
    "    <h2>Program 2:</h2>\n",
    "    <div style=\"font-family: 'Courier New', monospace; background-color: #f7f7f7; border-left: 5px solid #4A90E2; padding: 10px; margin: 10px 0;\">\n",
    "        REPEAT UNTIL GoalReached<br>\n",
    "        &nbsp;&nbsp;&nbsp;&nbsp;IF CAN_MOVE forward<br>\n",
    "        &nbsp;&nbsp;&nbsp;&nbsp;&nbsp;&nbsp;&nbsp;&nbsp;MOVE_FORWARD<br>\n",
    "        &nbsp;&nbsp;&nbsp;&nbsp;ELSE<br>\n",
    "        &nbsp;&nbsp;&nbsp;&nbsp;&nbsp;&nbsp;&nbsp;&nbsp;ROTATE_LEFT\n",
    "    </div>\n",
    "\n",
    "    <h2>Which of the following statements best describes the correctness of the programs?</h2>\n",
    "\n",
    "    <div style=\"margin: 20px 0;\">\n",
    "        <div style=\"padding: 10px; background-color: #f0f0f0; margin: 5px 0; border-radius: 5px;\">A) Program I correctly moves the robot to the gray square, but program II does not.</div>\n",
    "        <div style=\"padding: 10px; background-color: #f0f0f0; margin: 5px 0; border-radius: 5px;\">B) Program II correctly moves the robot to the gray square, but program I does not.</div>\n",
    "        <div style=\"padding: 10px; background-color: #f0f0f0; margin: 5px 0; border-radius: 5px;\">C) Both program I and program II correctly move the robot to the gray square.</div>\n",
    "        <div style=\"padding: 10px; background-color: #f0f0f0; margin: 5px 0; border-radius: 5px;\">D) Neither program I nor program II correctly moves the robot to the gray square.</div>\n",
    "    </div>\n",
    "\n",
    "    <div style=\"background-color: #ffebee; padding: 10px; margin: 20px 0; border: 1px solid #f44336; border-radius: 5px;\">\n",
    "        <p><strong>Answer B</strong></p>\n",
    "        <p>Incorrect. Program I correctly moves the robot to the gray square by repeatedly moving the robot forward, rotating left, moving forward twice, and rotating right.</p>\n",
    "    </div>\n",
    "</div>\n"
   ]
  },
  {
   "cell_type": "markdown",
   "metadata": {
    "vscode": {
     "languageId": "raw"
    }
   },
   "source": [
    "<div style=\"font-family: 'Arial', sans-serif; background-color: #f4f4f9; padding: 20px; color: #333;\">\n",
    "    <h1 style=\"color: #4A90E2;\">Question 12:</h1>\n",
    "    <p>What is the binary RGB triplet for the color indigo?</p>\n",
    "\n",
    "    <div style=\"margin: 20px 0;\">\n",
    "        <div style=\"padding: 10px; background-color: #f0f0f0; margin: 5px 0; border-radius: 5px;\">A) (00100101, 00000000, 10000010)</div>\n",
    "        <div style=\"padding: 10px; background-color: #f0f0f0; margin: 5px 0; border-radius: 5px;\">B) (00100101, 00000000, 01000001)</div>\n",
    "        <div style=\"padding: 10px; background-color: #f0f0f0; margin: 5px 0; border-radius: 5px;\">C) (01001011, 00000000, 10000010)</div>\n",
    "        <div style=\"padding: 10px; background-color: #f0f0f0; margin: 5px 0; border-radius: 5px;\">D) (01001011, 00000000, 01000001)</div>\n",
    "    </div>\n",
    "\n",
    "    <div style=\"background-color: #ffebee; padding: 10px; margin: 20px 0; border: 1px solid #f44336; border-radius: 5px;\">\n",
    "        <p><strong>Answer A</strong></p>\n",
    "        <p>Incorrect. The decimal equivalent of this triplet is (37, 0, 130).</p>\n",
    "    </div>\n",
    "</div>\n"
   ]
  },
  {
   "cell_type": "markdown",
   "metadata": {},
   "source": [
    "<div style=\"font-family: 'Arial', sans-serif; background-color: #f4f4f9; padding: 20px; color: #333;\">\n",
    "    <h1 style=\"color: #4A90E2;\">Question 19:</h1>\n",
    "    <p>Which of the following best describes the growth in the number of registered users for the first eight years of the application’s existence?</p>\n",
    "\n",
    "    <div style=\"margin: 20px 0;\">\n",
    "        <div style=\"padding: 10px; background-color: #f0f0f0; margin: 5px 0; border-radius: 5px;\">A) The number of registered users increased at about a constant rate each year for all eight years.</div>\n",
    "        <div style=\"padding: 10px; background-color: #f0f0f0; margin: 5px 0; border-radius: 5px;\">B) The number of registered users increased at about a constant rate for years 1 to 5 and then about doubled each year after that.</div>\n",
    "        <div style=\"padding: 10px; background-color: #f0f0f0; margin: 5px 0; border-radius: 5px;\">C) The number of registered users about doubled each year for years 1 to 5 and then increased at about a constant rate after that.</div>\n",
    "        <div style=\"padding: 10px; background-color: #f0f0f0; margin: 5px 0; border-radius: 5px;\">D) The number of registered users about doubled each year for all eight years.</div>\n",
    "    </div>\n",
    "\n",
    "    <div style=\"background-color: #ffebee; padding: 10px; margin: 20px 0; border: 1px solid #f44336; border-radius: 5px;\">\n",
    "        <p><strong>Answer A</strong></p>\n",
    "        <p>Incorrect. While the number of registered users appears to have grown at a constant rate for years 5 to 8, the number of registered users roughly doubled each year for years 1 to 5.</p>\n",
    "    </div>\n",
    "</div>\n"
   ]
  },
  {
   "cell_type": "markdown",
   "metadata": {},
   "source": [
    "<div style=\"font-family: 'Arial', sans-serif; background-color: #f4f4f9; padding: 20px; color: #333;\">\n",
    "    <h1 style=\"color: #4A90E2;\">Question 20:</h1>\n",
    "    <p>Which of the following best describes the average amount of data stored per user for the first eight years of the application’s existence?</p>\n",
    "\n",
    "    <div style=\"margin: 20px 0;\">\n",
    "        <div style=\"padding: 10px; background-color: #f0f0f0; margin: 5px 0; border-radius: 5px;\">A) Across all eight years, the average amount of data stored per user was about 10 GB.</div>\n",
    "        <div style=\"padding: 10px; background-color: #f0f0f0; margin: 5px 0; border-radius: 5px;\">B) Across all eight years, the average amount of data stored per user was about 100 GB.</div>\n",
    "        <div style=\"padding: 10px; background-color: #f0f0f0; margin: 5px 0; border-radius: 5px;\">C) The average amount of data stored per user appears to increase by about 10 GB each year.</div>\n",
    "        <div style=\"padding: 10px; background-color: #f0f0f0; margin: 5px 0; border-radius: 5px;\">D) The average amount of data stored per user appears to increase by about 100 GB each year.</div>\n",
    "    </div>\n",
    "\n",
    "    <div style=\"background-color: #ffebee; padding: 10px; margin: 20px 0; border: 1px solid #f44336; border-radius: 5px;\">\n",
    "        <p><strong>Answer C</strong></p>\n",
    "        <p>Incorrect. The two line graphs are roughly the same shape, indicating that the average amount of data stored per user remained about the same across all eight years.</p>\n",
    "    </div>\n",
    "</div>\n"
   ]
  },
  {
   "cell_type": "markdown",
   "metadata": {},
   "source": [
    "<div style=\"font-family: 'Arial', sans-serif; background-color: #f4f4f9; padding: 20px; color: #333;\">\n",
    "    <h1 style=\"color: #4A90E2;\">Question 22:</h1>\n",
    "    <div style=\"background-color: #ffebee; padding: 10px; margin: 20px 0; border: 1px solid #f44336; border-radius: 5px;\">\n",
    "        <p><strong>Answer C</strong></p>\n",
    "        <p>Incorrect. This code simulates a spinner with the wrong probabilities. It should have a chance for \"Move 1 space,\" \"Move 2 spaces,\" and \"Lose a turn\" in the correct order.</p>\n",
    "    </div>\n",
    "</div>\n"
   ]
  },
  {
   "cell_type": "markdown",
   "metadata": {},
   "source": [
    "<div style=\"font-family: 'Arial', sans-serif; background-color: #f4f4f9; padding: 20px; color: #333;\">\n",
    "    <h1 style=\"color: #4A90E2;\">Question 23:</h1>\n",
    "    <div style=\"background-color: #ffebee; padding: 10px; margin: 20px 0; border: 1px solid #f44336; border-radius: 5px;\">\n",
    "        <p><strong>Answer B</strong></p>\n",
    "        <p>Incorrect. This expression sets \"available\" to true when either condition is true, while the flowchart requires both conditions to be true.</p>\n",
    "    </div>\n",
    "</div>\n"
   ]
  },
  {
   "cell_type": "markdown",
   "metadata": {},
   "source": [
    "<div style=\"font-family: 'Arial', sans-serif; background-color: #f4f4f9; padding: 20px; color: #333;\">\n",
    "    <h1 style=\"color: #4A90E2;\">Question 33:</h1>\n",
    "    <p>A student’s overall course grade is based on their individual assignment scores, calculated by dropping the lowest score and averaging the remaining scores.</p>\n",
    "\n",
    "    <p>Given the following information: student name, ID number, number of assignments, average score before dropping the lowest, and course grade after dropping the lowest, which of the following cannot be determined?</p>\n",
    "\n",
    "    <div style=\"margin: 20px 0;\">\n",
    "        <div style=\"padding: 10px; background-color: #f0f0f0; margin: 5px 0; border-radius: 5px;\">A) The value of the highest assignment score</div>\n",
    "        <div style=\"padding: 10px; background-color: #f0f0f0; margin: 5px 0; border-radius: 5px;\">B) The value of the lowest assignment score</div>\n",
    "        <div style=\"padding: 10px; background-color: #f0f0f0; margin: 5px 0; border-radius: 5px;\">C) The change in course grade as a result of dropping the lowest score</div>\n",
    "        <div style=\"padding: 10px; background-color: #f0f0f0; margin: 5px 0; border-radius: 5px;\">D) The proportion of students who improved their course grade</div>\n",
    "    </div>\n",
    "\n",
    "    <div style=\"background-color: #ffebee; padding: 10px; margin: 20px 0; border: 1px solid #f44336; border-radius: 5px;\">\n",
    "        <p><strong>Answer B</strong></p>\n",
    "        <p>Incorrect. The lowest assignment score can be determined by calculating the difference between the total score before and after dropping the lowest.</p>\n",
    "    </div>\n",
    "</div>\n"
   ]
  },
  {
   "cell_type": "markdown",
   "metadata": {},
   "source": [
    "<div style=\"font-family: 'Arial', sans-serif; background-color: #f4f4f9; padding: 20px; color: #333;\">\n",
    "    <h1 style=\"color: #4A90E2;\">Question:</h1>\n",
    "    <p>The following procedure is intended to return the value of x times y, where x and y are integers. Multiplication is implemented using repeated additions.</p>\n",
    "    \n",
    "    <p>The procedure code:</p>\n",
    "    <ul>\n",
    "        <li><strong>PROCEDURE Multiply(x, y):</strong></li>\n",
    "        <li><strong>count ← 0</strong></li>\n",
    "        <li><strong>result ← 0</strong></li>\n",
    "        <li><strong>REPEAT UNTIL count ≥ y:</strong>\n",
    "            <ul>\n",
    "                <li><strong>result ← result + x</strong></li>\n",
    "                <li><strong>count ← count + 1</strong></li>\n",
    "            </ul>\n",
    "        </li>\n",
    "        <li><strong>RETURN result</strong></li>\n",
    "    </ul>\n",
    "\n",
    "    <p>For which of the following procedure calls does the procedure NOT return the intended value?</p>\n",
    "\n",
    "    <div style=\"margin: 20px 0;\">\n",
    "        <div style=\"padding: 10px; background-color: #f0f0f0; margin: 5px 0; border-radius: 5px;\">A) Multiply(2, 5)</div>\n",
    "        <div style=\"padding: 10px; background-color: #f0f0f0; margin: 5px 0; border-radius: 5px;\">B) Multiply(2, -5)</div>\n",
    "        <div style=\"padding: 10px; background-color: #f0f0f0; margin: 5px 0; border-radius: 5px;\">C) Multiply(-2, 5)</div>\n",
    "        <div style=\"padding: 10px; background-color: #f0f0f0; margin: 5px 0; border-radius: 5px;\">D) Multiply(-2, -5)</div>\n",
    "    </div>\n",
    "\n",
    "    <div style=\"background-color: #ffebee; padding: 10px; margin: 20px 0; border: 1px solid #f44336; border-radius: 5px;\">\n",
    "        <p><strong>Answer C</strong></p>\n",
    "        <p>Incorrect. For these values, the procedure repeatedly adds -2 to the result five times, resulting in the intended product -10.</p>\n",
    "    </div>\n",
    "</div>\n"
   ]
  },
  {
   "cell_type": "markdown",
   "metadata": {},
   "source": [
    "<div style=\"font-family: 'Arial', sans-serif; background-color: #f4f4f9; padding: 20px; color: #333;\">\n",
    "    <h1 style=\"color: #4A90E2;\">Question:</h1>\n",
    "    <p>Consider two lists, list1 and list2. A programmer wants to determine how many different values appear in both lists. For example, if list1 contains [10, 10, 20, 30, 40, 50, 60] and list2 contains [20, 20, 40, 60, 80], there are three different values (20, 40, and 60).</p>\n",
    "\n",
    "    <p>The programmer has the following procedures available:</p>\n",
    "    <ul>\n",
    "        <li><strong>Combine(myList1, myList2)</strong>: Combines two lists into one, e.g., [2, 4, 6] and [1, 5] become [2, 4, 6, 1, 5].</li>\n",
    "        <li><strong>RemoveAllDups(myList)</strong>: Removes duplicates from a list, e.g., [3, 2, 4, 2, 5, 6] becomes [3, 2, 4, 5, 6].</li>\n",
    "    </ul>\n",
    "\n",
    "    <p>Which of the following can be used to assign the intended value to <strong>count</strong>?</p>\n",
    "\n",
    "    <div style=\"margin: 20px 0;\">\n",
    "        <div style=\"padding: 10px; background-color: #f0f0f0; margin: 5px 0; border-radius: 5px;\">A) \n",
    "            <ul>\n",
    "                <li><strong>bothList = Combine(list1, list2)</strong></li>\n",
    "                <li><strong>uniqueList = RemoveAllDups(bothList)</strong></li>\n",
    "                <li><strong>count = LENGTH(bothList) - LENGTH(uniqueList)</strong></li>\n",
    "            </ul>\n",
    "        </div>\n",
    "        <div style=\"padding: 10px; background-color: #f0f0f0; margin: 5px 0; border-radius: 5px;\">B) \n",
    "            <ul>\n",
    "                <li><strong>newList1 = RemoveAllDups(list1)</strong></li>\n",
    "                <li><strong>newList2 = RemoveAllDups(list2)</strong></li>\n",
    "                <li><strong>bothList = Combine(newList1, newList2)</strong></li>\n",
    "                <li><strong>count = LENGTH(list1) + LENGTH(list2) - LENGTH(bothList)</strong></li>\n",
    "            </ul>\n",
    "        </div>\n",
    "        <div style=\"padding: 10px; background-color: #f0f0f0; margin: 5px 0; border-radius: 5px;\">C) \n",
    "            <ul>\n",
    "                <li><strong>newList1 = RemoveAllDups(list1)</strong></li>\n",
    "                <li><strong>newList2 = RemoveAllDups(list2)</strong></li>\n",
    "                <li><strong>bothList = Combine(newList1, newList2)</strong></li>\n",
    "                <li><strong>count = LENGTH(newList1) + LENGTH(newList2) - LENGTH(bothList)</strong></li>\n",
    "            </ul>\n",
    "        </div>\n",
    "        <div style=\"padding: 10px; background-color: #f0f0f0; margin: 5px 0; border-radius: 5px;\">D) \n",
    "            <ul>\n",
    "                <li><strong>newList1 = RemoveAllDups(list1)</strong></li>\n",
    "                <li><strong>newList2 = RemoveAllDups(list2)</strong></li>\n",
    "                <li><strong>bothList = Combine(newList1, newList2)</strong></li>\n",
    "                <li><strong>uniqueList = RemoveAllDups(bothList)</strong></li>\n",
    "                <li><strong>count = LENGTH(bothList) - LENGTH(uniqueList)</strong></li>\n",
    "            </ul>\n",
    "        </div>\n",
    "    </div>\n",
    "\n",
    "    <div style=\"background-color: #ffebee; padding: 10px; margin: 20px 0; border: 1px solid #f44336; border-radius: 5px;\">\n",
    "        <p><strong>Answer C</strong></p>\n",
    "        <p>Incorrect. For example, if list1 contains [10, 10, 20, 30, 40, 50, 60] and list2 contains [20, 20, 40, 60, 80], the calculation leads to an incorrect result.</p>\n",
    "    </div>\n",
    "</div>\n"
   ]
  }
 ],
 "metadata": {
  "language_info": {
   "name": "python"
  }
 },
 "nbformat": 4,
 "nbformat_minor": 2
}
