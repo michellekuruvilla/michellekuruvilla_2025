{
 "cells": [
  {
   "cell_type": "markdown",
   "id": "f0977e92",
   "metadata": {},
   "source": [
    "---\n",
    "title: Javascript Cell \n",
    "description: This is a Jupyter notebook where i run a single javascript cell.\n",
    "permalink: /java_cell/\n",
    "---"
   ]
  },
  {
   "cell_type": "code",
   "execution_count": null,
   "id": "14afccff",
   "metadata": {},
   "outputs": [],
   "source": [
    "%%javascript\n",
    "alert(\"Hello Word!\");"
   ]
  }
 ],
 "metadata": {
  "kernelspec": {
   "display_name": "Python 3 (ipykernel)",
   "language": "python",
   "name": "python3"
  },
  "language_info": {
   "codemirror_mode": {
    "name": "ipython",
    "version": 3
   },
   "file_extension": ".py",
   "mimetype": "text/x-python",
   "name": "python",
   "nbconvert_exporter": "python",
   "pygments_lexer": "ipython3",
   "version": "3.12.3"
  }
 },
 "nbformat": 4,
 "nbformat_minor": 5
}
