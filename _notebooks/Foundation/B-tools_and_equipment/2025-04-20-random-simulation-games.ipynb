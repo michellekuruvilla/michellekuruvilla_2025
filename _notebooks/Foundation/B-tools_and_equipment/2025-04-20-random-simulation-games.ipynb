{
 "cells": [
  {
   "cell_type": "markdown",
   "id": "7c4a5085",
   "metadata": {},
   "source": [
    "---\n",
    "layout: post\n",
    "title: Random Algorithms and Simulation Games Hacks\n",
    "description: This is a Jupyter Notebook where I blog my popcorn hacks.\n",
    "permalink: /random/\n",
    "comments: true \n",
    "---"
   ]
  },
  {
   "cell_type": "markdown",
   "id": "bb6f4e79",
   "metadata": {},
   "source": [
    "## Popcorn Hack #1: Brainstorm\n",
    "\n",
    "### What do you think a random algorithm is?\n",
    "A **random algorithm** is a type of algorithm that incorporates randomness or chance into its logic. This means that the algorithm might produce different outputs or follow different paths even when given the same input, depending on randomly generated values during its execution.\n",
    "\n",
    "### What would be a reason to use random algorithms in real-life coding situations?\n",
    "Random algorithms are useful in a variety of real-world applications, such as:\n",
    "\n",
    "- **Simulations**: Modeling complex systems like traffic, weather, or crowd behavior.\n",
    "- **Gaming**: Creating unpredictable behaviors in games for enemies or loot drops.\n",
    "- **Sampling**: Selecting a random subset of data, useful in surveys or big data.\n",
    "- **Optimization**: Solving problems where trying every possibility is too slow (e.g., randomized optimization or genetic algorithms).\n",
    "- **Cryptography**: Ensuring secure and unpredictable encryption.\n",
    "\n",
    "They are often used when:\n",
    "- A deterministic solution is too slow or complex.\n",
    "- You need variety or unpredictability.\n",
    "- You want to avoid bias.\n",
    "\n",
    "### What kind of questions do you think College Board will ask regarding Random Algorithms?\n",
    "The College Board might ask questions such as:\n",
    "- Predicting the possible outputs of a program that uses a random number generator.\n",
    "- Explaining how changing the range or frequency of random values affects the behavior of an algorithm.\n",
    "- Understanding the purpose and impact of randomness in a given code snippet.\n",
    "- Simulating the outcomes of repeated trials or experiments using random values.\n",
    "\n"
   ]
  },
  {
   "cell_type": "code",
   "execution_count": 1,
   "id": "4ec1051e",
   "metadata": {},
   "outputs": [
    {
     "name": "stdout",
     "output_type": "stream",
     "text": [
      "Today’s random activity: Try a new video game\n"
     ]
    }
   ],
   "source": [
    "import random\n",
    "\n",
    "# Step 1: Define a list of activities (customized)\n",
    "activities = [\n",
    "    'Paint something cool',\n",
    "    'Go skateboarding',\n",
    "    'Learn a dance from TikTok',\n",
    "    'Build a LEGO set',\n",
    "    'Try a new video game',\n",
    "    'Bake cookies',\n",
    "    'Do a mini workout',\n",
    "    'Organize your room',\n",
    "    'Start a new show',\n",
    "    'Take aesthetic photos outside'\n",
    "]\n",
    "\n",
    "# Step 2: Randomly choose an activity\n",
    "random_activity = random.choice(activities)\n",
    "\n",
    "# Step 3: Display the chosen activity\n",
    "print(f\"Today’s random activity: {random_activity}\")\n"
   ]
  },
  {
   "cell_type": "code",
   "execution_count": 2,
   "id": "ed2e79ab",
   "metadata": {},
   "outputs": [
    {
     "name": "stdout",
     "output_type": "stream",
     "text": [
      "Liam will be monitoring the game zone!\n",
      "Zara will be monitoring the snack table!\n",
      "Noah will be monitoring the drink station!\n",
      "Ava will be monitoring the photo wall!\n",
      "Maya will be monitoring the music booth!\n"
     ]
    }
   ],
   "source": [
    "# Popcorn Hack Number 3: Using loops with random\n",
    "# This popcorn hack assigns an activity to each host at the party\n",
    "\n",
    "import random\n",
    "\n",
    "# Step 1: Define your list of party hosts and activities\n",
    "hosts = ['Liam', 'Zara', 'Noah', 'Ava', 'Maya']\n",
    "activities = ['drink station', 'music booth', 'photo wall', 'snack table', 'game zone']\n",
    "\n",
    "# Step 2: Randomly shuffle the activities\n",
    "random.shuffle(activities)\n",
    "\n",
    "# Step 3: Loop through and assign each host to an activity\n",
    "for i in range(len(hosts)):\n",
    "    print(f\"{hosts[i]} will be monitoring the {activities[i]}!\")\n"
   ]
  },
  {
   "cell_type": "markdown",
   "id": "ea02dc0d",
   "metadata": {},
   "source": [
    "## Simulation Games Popcorn Hack 1"
   ]
  },
  {
   "cell_type": "code",
   "execution_count": 3,
   "id": "2229dbe2",
   "metadata": {},
   "outputs": [
    {
     "name": "stdout",
     "output_type": "stream",
     "text": [
      "Computer chose: scissors\n",
      "You chose: rock\n",
      "You win!\n"
     ]
    }
   ],
   "source": [
    "import random\n",
    "\n",
    "def play_rock_paper_scissors():\n",
    "    choices = ['rock', 'paper', 'scissors']\n",
    "    computer_choice = random.choice(choices)\n",
    "    user_choice = input(\"Enter your choice (rock, paper, or scissors): \").lower()\n",
    "\n",
    "    if user_choice not in choices:\n",
    "        print(\"Invalid choice. Please try again.\")\n",
    "        return\n",
    "\n",
    "    print(\"Computer chose:\", computer_choice)\n",
    "    print(\"You chose:\", user_choice)\n",
    "\n",
    "    if user_choice == computer_choice:\n",
    "        print(\"It's a tie!\")\n",
    "    elif (\n",
    "        (user_choice == 'rock' and computer_choice == 'scissors') or \n",
    "        (user_choice == 'paper' and computer_choice == 'rock') or \n",
    "        (user_choice == 'scissors' and computer_choice == 'paper')\n",
    "    ):\n",
    "        print(\"You win!\")\n",
    "    else:\n",
    "        print(\"You lose!\")\n",
    "\n",
    "play_rock_paper_scissors()\n"
   ]
  },
  {
   "cell_type": "code",
   "execution_count": 4,
   "id": "4ee5c9ca",
   "metadata": {},
   "outputs": [
    {
     "name": "stdout",
     "output_type": "stream",
     "text": [
      "Computer chose: paper\n",
      "You chose: rock\n",
      "You lose!\n"
     ]
    }
   ],
   "source": [
    "import random\n",
    "\n",
    "def play_rock_paper_scissors():\n",
    "    choices = ['rock', 'paper', 'scissors']\n",
    "    computer_choice = random.choice(choices)\n",
    "    user_choice = input(\"Enter your choice (rock, paper, or scissors): \").lower()\n",
    "\n",
    "    if user_choice not in choices:\n",
    "        print(\"Invalid choice. Please try again.\")\n",
    "        return\n",
    "\n",
    "    print(\"Computer chose:\", computer_choice)\n",
    "    print(\"You chose:\", user_choice)\n",
    "\n",
    "    if user_choice == computer_choice:\n",
    "        print(\"It's a tie!\")\n",
    "    elif (\n",
    "        (user_choice == 'rock' and computer_choice == 'scissors') or \n",
    "        (user_choice == 'paper' and computer_choice == 'rock') or \n",
    "        (user_choice == 'scissors' and computer_choice == 'paper')\n",
    "    ):\n",
    "        print(\"You win!\")\n",
    "    else:\n",
    "        print(\"You lose!\")\n",
    "\n",
    "# Run the game\n",
    "play_rock_paper_scissors()\n"
   ]
  },
  {
   "cell_type": "markdown",
   "id": "aa337ced",
   "metadata": {},
   "source": [
    "## Homework Hacks- completed all 3"
   ]
  },
  {
   "cell_type": "code",
   "execution_count": 7,
   "id": "47fcba80",
   "metadata": {},
   "outputs": [
    {
     "name": "stdout",
     "output_type": "stream",
     "text": [
      "\n",
      "Team Phoenix Members:\n",
      " - Eli\n",
      " - Carlos\n",
      " - Bria\n",
      " - Alex\n",
      " - Omar\n",
      "\n",
      "Team Thunder Members:\n",
      " - Milo\n",
      " - Farah\n",
      " - Lena\n",
      " - Jade\n",
      " - Kian\n",
      "\n",
      "Team Eclipse Members:\n",
      " - Dina\n",
      " - Gabe\n",
      " - Hana\n",
      " - Nina\n",
      " - Isaac\n"
     ]
    }
   ],
   "source": [
    "import random\n",
    "\n",
    "# List of 15 students\n",
    "students = [\n",
    "    \"Alex\", \"Bria\", \"Carlos\", \"Dina\", \"Eli\", \"Farah\", \"Gabe\", \"Hana\", \"Isaac\", \"Jade\",\n",
    "    \"Kian\", \"Lena\", \"Milo\", \"Nina\", \"Omar\"\n",
    "]\n",
    "\n",
    "# Creative team names\n",
    "teams = [\"Team Phoenix\", \"Team Thunder\", \"Team Eclipse\"]\n",
    "\n",
    "# Create a dictionary to hold team assignments\n",
    "team_assignments = {team: [] for team in teams}\n",
    "\n",
    "# Shuffle the student list to randomize order\n",
    "random.shuffle(students)\n",
    "\n",
    "# Assign each student to a team in round-robin fashion\n",
    "for i, student in enumerate(students):\n",
    "    team = teams[i % len(teams)]\n",
    "    team_assignments[team].append(student)\n",
    "\n",
    "# Print out the results\n",
    "for team, members in team_assignments.items():\n",
    "    print(f\"\\n{team} Members:\")\n",
    "    for member in members:\n",
    "        print(f\" - {member}\")\n"
   ]
  },
  {
   "cell_type": "code",
   "execution_count": 6,
   "id": "1dded26b",
   "metadata": {},
   "outputs": [
    {
     "name": "stdout",
     "output_type": "stream",
     "text": [
      "🌤️ 7-Day Weather Forecast 🌧️\n",
      "\n",
      "Day 1: Sunny\n",
      "Day 2: Sunny\n",
      "Day 3: Sunny\n",
      "Day 4: Cloudy\n",
      "Day 5: Cloudy\n",
      "Day 6: Sunny\n",
      "Day 7: Rainy\n"
     ]
    }
   ],
   "source": [
    "import random\n",
    "\n",
    "# List of possible weather types\n",
    "weather_types = ['Sunny', 'Cloudy', 'Rainy']\n",
    "\n",
    "# Number of days in the forecast\n",
    "days = 7\n",
    "\n",
    "# Generate and print the weather for each day\n",
    "print(\"🌤️ 7-Day Weather Forecast 🌧️\\n\")\n",
    "for day in range(1, days + 1):\n",
    "    weather = random.choice(weather_types)\n",
    "    print(f\"Day {day}: {weather}\")\n"
   ]
  },
  {
   "cell_type": "code",
   "execution_count": 8,
   "id": "3903ad0f",
   "metadata": {},
   "outputs": [
    {
     "name": "stdout",
     "output_type": "stream",
     "text": [
      "Customer 1 will take 4 minute(s) to be served.\n",
      "Customer 2 will take 2 minute(s) to be served.\n",
      "Customer 3 will take 4 minute(s) to be served.\n",
      "Customer 4 will take 2 minute(s) to be served.\n",
      "Customer 5 will take 3 minute(s) to be served.\n",
      "\n",
      "Total time to serve all customers: 15 minutes\n"
     ]
    }
   ],
   "source": [
    "import random\n",
    "\n",
    "# Simulate 5 customers\n",
    "customers = [\"Customer 1\", \"Customer 2\", \"Customer 3\", \"Customer 4\", \"Customer 5\"]\n",
    "\n",
    "# Store service times\n",
    "service_times = []\n",
    "\n",
    "# Generate random service times between 1 and 5 minutes for each customer\n",
    "for customer in customers:\n",
    "    service_time = random.randint(1, 5)\n",
    "    service_times.append(service_time)\n",
    "    print(f\"{customer} will take {service_time} minute(s) to be served.\")\n",
    "\n",
    "# Calculate total time\n",
    "total_time = sum(service_times)\n",
    "print(f\"\\nTotal time to serve all customers: {total_time} minutes\")\n"
   ]
  }
 ],
 "metadata": {
  "kernelspec": {
   "display_name": "venv",
   "language": "python",
   "name": "python3"
  },
  "language_info": {
   "codemirror_mode": {
    "name": "ipython",
    "version": 3
   },
   "file_extension": ".py",
   "mimetype": "text/x-python",
   "name": "python",
   "nbconvert_exporter": "python",
   "pygments_lexer": "ipython3",
   "version": "3.12.3"
  }
 },
 "nbformat": 4,
 "nbformat_minor": 5
}
