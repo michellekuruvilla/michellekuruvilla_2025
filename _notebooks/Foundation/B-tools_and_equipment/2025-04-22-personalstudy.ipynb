{
 "cells": [
  {
   "cell_type": "markdown",
   "id": "03a36527",
   "metadata": {},
   "source": [
    "---\n",
    "layout: post\n",
    "title: Study guide\n",
    "description: This is my study guide\n",
    "permalink: /studying/\n",
    "comments: true \n",
    "---"
   ]
  },
  {
   "cell_type": "markdown",
   "id": "770d489c",
   "metadata": {},
   "source": [
    "# 📘 AP Computer Science Principles (AP CSP) Study Guide  \n",
    "_Compiled by Michelle Kuruvilla_\n",
    "\n",
    "---\n",
    "\n",
    "## 📂 Table of Contents\n",
    "1. [Key Concepts](#key-concepts)\n",
    "2. [Important Vocabulary](#important-vocabulary)\n",
    "3. [Essential Algorithms](#essential-algorithms)\n",
    "4. [Sample FRQ Practice](#sample-frq-practice)\n",
    "5. [Binary, Data & Compression](#binary-data--compression)\n",
    "6. [The Internet & Cybersecurity](#the-internet--cybersecurity)\n",
    "7. [Computing Innovations](#computing-innovations)\n",
    "8. [Helpful Code Snippets](#helpful-code-snippets)\n",
    "\n",
    "---\n",
    "\n",
    "## 🔑 Key Concepts\n",
    "\n",
    "| Concept Area           | Topics Covered                                                                 |\n",
    "|------------------------|--------------------------------------------------------------------------------|\n",
    "| **Data & Information** | Binary, number systems, abstraction, data types, overflow                      |\n",
    "| **Algorithms**         | Sequencing, selection, iteration, efficiency                                   |\n",
    "| **Programming**        | Variables, functions, parameters, loops, conditionals, return values           |\n",
    "| **The Internet**       | IP, DNS, packets, routing, protocols, fault tolerance                          |\n",
    "| **Cybersecurity**      | Encryption (symmetric & public-key), phishing, digital certificates            |\n",
    "| **Impact of Computing**| Bias, ethical implications, access, privacy, laws                              |\n",
    "\n",
    "---\n",
    "\n",
    "## 📚 Important Vocabulary\n",
    "\n",
    "| Term                | Definition                                                                 |\n",
    "|---------------------|----------------------------------------------------------------------------|\n",
    "| **Abstraction**     | Reducing complexity by focusing on the main idea and hiding details         |\n",
    "| **Algorithm**       | A precise sequence of instructions                                           |\n",
    "| **Boolean**         | A data type with two possible values: `true` or `false`                     |\n",
    "| **Bandwidth**       | Maximum data transfer rate over a network                                   |\n",
    "| **Digital Divide**  | Unequal access to computing and internet technology                         |\n",
    "| **Phishing**        | A scam using deceptive emails/websites to collect personal info             |\n",
    "| **Lossless**        | Compression that allows full reconstruction of the original data            |\n",
    "| **Lossy**           | Compression that removes some data to reduce file size                      |\n",
    "\n",
    "---\n",
    "\n",
    "## 🧮 Essential Algorithms\n",
    "\n",
    "- **Linear Search** – Checks every item in a list one-by-one  \n",
    "- **Binary Search** – Searches a **sorted** list by dividing it in half each step  \n",
    "- **Selection Sort** – Repeatedly selects the smallest/largest element and moves it to the correct position  \n",
    "- **Procedural Abstraction** – Breaking down a program into reusable blocks (functions)\n",
    "\n",
    "```js\n",
    "function greet(name) {\n",
    "  return \"Hello, \" + name + \"!\";\n",
    "}\n"
   ]
  }
 ],
 "metadata": {
  "language_info": {
   "name": "python"
  }
 },
 "nbformat": 4,
 "nbformat_minor": 5
}
