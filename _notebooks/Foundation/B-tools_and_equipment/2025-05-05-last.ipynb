{
 "cells": [
  {
   "cell_type": "markdown",
   "id": "a78b12d3",
   "metadata": {},
   "source": [
    "---\n",
    "layout: post\n",
    "title: Last popcorn hacks\n",
    "description: This is a Jupyter Notebook where I blog my popcorn hacks.\n",
    "permalink: /last/\n",
    "comments: true \n",
    "---"
   ]
  },
  {
   "cell_type": "markdown",
   "id": "58be1d1d",
   "metadata": {},
   "source": [
    "## 💬 Partner Discussion Prompt\n",
    "\n",
    "**Turn to a partner and discuss:**  \n",
    "*What do you think could be one downside of Base64 in the real world?*\n",
    "\n",
    "🧠 **Answer:**  \n",
    "One downside of Base64 in the real world is that it increases the size of the data by about **33%**. Since Base64 encoding turns every 3 bytes of binary data into 4 ASCII characters, this overhead makes transmissions larger and less efficient—especially when dealing with **large files** or in **bandwidth-limited environments** like mobile networks.\n",
    "\n",
    "---\n",
    "\n",
    "## 🎨 1. What is a Hex Color Code?\n",
    "\n",
    "A **hex color code** is a six-digit code used in web design and digital graphics to represent colors. It combines numbers (`0–9`) and letters (`A–F`) to indicate the intensity of **red, green, and blue (RGB)** values. Each color component is two hex characters (ranging from `00` to `FF`).\n",
    "\n",
    "**Examples:**\n",
    "- `#FF0000` = Red  \n",
    "- `#00FF00` = Green  \n",
    "- `#0000FF` = Blue  \n",
    "- `#FFFFFF` = White  \n",
    "- `#000000` = Black  \n",
    "\n",
    "---\n",
    "\n",
    "## 🧾 2. What is Base64 and How Is It Used with Images?\n",
    "\n",
    "**Base64** is a method of encoding binary data—like image files—into **plain text** using only readable ASCII characters. This makes it safe to transmit through systems that handle text, such as HTML, CSS, or JSON.\n",
    "\n",
    "**Uses of Base64 with images:**\n",
    "- Embedding small icons directly into HTML or CSS (no separate image files needed)\n",
    "- Sending image data inside APIs or emails as part of text payloads\n",
    "\n",
    "---\n",
    "\n",
    "## 🔍 3. Why Might You Use Base64 Instead of a Regular Image File?\n",
    "\n",
    "You might choose Base64 for a few reasons:\n",
    "\n",
    "- ✅ **Embed small images directly** into a webpage to reduce file requests  \n",
    "- ✅ **Store images in plain-text-only systems**, like some databases or config files  \n",
    "- ✅ **Improve page load time** for small assets by reducing the number of HTTP requests  \n",
    "\n",
    "---\n",
    "\n",
    "## 🛠️ Application to MY Work\n",
    "\n",
    "In my **video analytics frontend**, I could use Base64 to **embed small icons or logos** (like play buttons or rating stars) directly in the interface. This avoids needing to manage or fetch separate image files from the server, keeping the interface **lightweight, fast, and easier to maintain**.\n"
   ]
  },
  {
   "cell_type": "markdown",
   "id": "d1977fff",
   "metadata": {},
   "source": [
    "### 🌄 National Geographic Image\n",
    "\n",
    "![National Geographic Image](https://i.natgeofe.com/n/548467d8-c5f1-4551-9f58-6817a8d2c45e/NationalGeographic_2572187_16x9.jpg?w=1200)\n",
    "\n",
    "---\n",
    "\n",
    "### 📘 Explanation: How It’s Stored and Displayed\n",
    "\n",
    "- **Storage:**  \n",
    "  This image is linked directly from the web. It is **not stored locally** or inside the notebook file. Instead, it is fetched from the internet each time the notebook is loaded.\n",
    "\n",
    "- **Display:**  \n",
    "  Jupyter displays images using HTML `<img>` tags in Markdown or the `IPython.display` functions in code cells. It renders the image **inline**, so you can see it right in your notebook.\n",
    "\n",
    "- **Note:**  \n",
    "  If you're **offline**, the image won’t appear unless you’ve **downloaded it** or embedded it using **Base64 encoding**.\n",
    "\n",
    "---\n"
   ]
  }
 ],
 "metadata": {
  "language_info": {
   "name": "python"
  }
 },
 "nbformat": 4,
 "nbformat_minor": 5
}
