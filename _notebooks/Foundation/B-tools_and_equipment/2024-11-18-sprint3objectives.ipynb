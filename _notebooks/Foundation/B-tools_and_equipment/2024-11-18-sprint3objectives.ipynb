{
 "cells": [
  {
   "cell_type": "markdown",
   "metadata": {},
   "source": [
    "---\n",
    "layout: post\n",
    "title: Sprint 3 Objectives \n",
    "description: Sprint 3 Issue Objectives\n",
    "---"
   ]
  },
  {
   "cell_type": "markdown",
   "metadata": {},
   "source": [
    "| **Assignment**                | **Points**    | **Grade** | **Evidence** |\n",
    "|-------------------------------|---------------|-----------|--------------|\n",
    "| Sprint 1-3 Review Ticket      | 3             |   2        |       ![Screenshot 2024-11-18 180300](https://github.com/user-attachments/assets/da1768e6-c8d5-4879-ac4a-acf9880bc898)![Screenshot 2024-11-18 180253](https://github.\n",
    "com/user-attachments/assets/4dbc8104-b9dc-48f8-8300-a87b16b0255f)       |\n",
    "| Sprint 3 Team Issue(s)/Plan   | 2      |   2        |       ![Screenshot 2024-11-18 180600](https://github.com/user-attachments/assets/f01092a8-1cca-4615-9214-f333071bfa5c)     ![Screenshot 2024-11-18 180551](https://github.com/user-attachments/assets/bc4a94d5-0aac-4922-9299-d162793508ea)  |\n",
    "| Beginning-2-End Contribution  | 2             |    2       |    [Screenshot 2024-11-18 175354](https://github.com/user-attachments/assets/1be2f7ff-e6b3-400b-afda-4b343230b493)          |\n",
    "| N@tM Team Presentation        | 2             |   2        |         recieved feedback from N@M and worked with team to fix it.      |\n",
    "![Screenshot 2024-11-18 180916](https://github.com/user-attachments/assets/1be98dbf-f4f7-4a84-828a-7e504bfb4a62)\n",
    "\n",
    "| Live Review Indi Demo         | 1             |        1   |              |\n",
    "| **Total**                     | 10            |      9     |              |\n",
    "\n",
    "| **Skill**                  | **Points**    | **Grade** | **Evidence** |\n",
    "|----------------------------|---------------|-----------|--------------|\n",
    "| Work Habits (Analytics)    | 1             |      1     |     always on time, always on task, collaborate, asks questions, ![Screenshot 2024-11-18 175354](https://github.com/user-attachments/assets/1be2f7ff-e6b3-400b-afda-4b343230b493)active on slack, contributes to team achievement         |\n",
    "| Evidence of Role in Team   | 1             |     1      |      I contributed to my groups front end heavily        | \n",
    "![Screenshot 2024-11-18 180300](https://github.com/user-attachments/assets/da1768e6-c8d5-4879-ac4a-acf9880bc898)![Screenshot 2024-11-18 180253](https://github.com/user-attachments/assets/4dbc8104-b9dc-48f8-8300-a87b16b0255f)\n",
    "\n",
    "| Function / Purpose Design  | 1             |       1    |          ![Screenshot 2024-11-18 180300](https://github.com/user-attachments/assets/da1768e6-c8d5-4879-ac4a-acf9880bc898)![Screenshot 2024-11-18 180253](https://github.com/user-attachments/assets/4dbc8104-b9dc-48f8-8300-a87b16b0255f)    | \n",
    "| Live Review                | 2             |      1.5    |     our backend wasnt fully functional         | \n",
    "| **Total**                  | 5             |       4.5   |      .9        |"
   ]
  }
 ],
 "metadata": {
  "language_info": {
   "name": "python"
  }
 },
 "nbformat": 4,
 "nbformat_minor": 2
}
