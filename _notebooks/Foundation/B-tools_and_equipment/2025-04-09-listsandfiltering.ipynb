{
 "cells": [
  {
   "cell_type": "markdown",
   "id": "063db8c2",
   "metadata": {},
   "source": [
    "---\n",
    "layout: post\n",
    "title: Binary Search Popcorn Hacks\n",
    "description: This is a Jupyter Notebook where I blog my popcorn hacks.\n",
    "permalink: /search/\n",
    "comments: true \n",
    "---"
   ]
  },
  {
   "cell_type": "code",
   "execution_count": null,
   "id": "8262320b",
   "metadata": {},
   "outputs": [
    {
     "name": "stdout",
     "output_type": "stream",
     "text": [
      "['Inception', 'Interstellar', 'Avatar', 'Up', 'Coco']\n"
     ]
    }
   ],
   "source": [
    "# Popcorn Hack 1, Create a list of favorite movies\n",
    "movies = [\"Inception\", \"Titanic\", \"Avatar\", \"Up\"]\n",
    "\n",
    "# Replace the second movie with a new one\n",
    "movies[1] = \"Interstellar\"\n",
    "\n",
    "# Add another movie to the list\n",
    "movies.append(\"Coco\")\n",
    "\n",
    "# Display the updated list\n",
    "print(movies)\n"
   ]
  },
  {
   "cell_type": "code",
   "execution_count": null,
   "id": "673eb40c",
   "metadata": {},
   "outputs": [
    {
     "name": "stdout",
     "output_type": "stream",
     "text": [
      "[20, 34, 18, 21, 19]\n"
     ]
    }
   ],
   "source": [
    "# Popcorn Hack 2 Given list of ages\n",
    "ages = [15, 20, 34, 16, 18, 21, 14, 19]\n",
    "\n",
    "# Create a new list with ages 18 or older\n",
    "eligible_ages = [age for age in ages if age >= 18]\n",
    "\n",
    "# Display the new list\n",
    "print(eligible_ages)\n"
   ]
  },
  {
   "cell_type": "markdown",
   "id": "3c825e23",
   "metadata": {},
   "source": [
    "## Homework Hack 1 (extra credit for doing 8 bullet points)\n",
    "\n",
    "Video 1:\n",
    "- In Python, lists are a built-in data structure for storing ordered data in a specific sequence.\n",
    "- Lists can be created using the list constructor or by using brackets, which is more common.\n",
    "- You can pre-populate a list with values or add new items later using the \"append\" method.\n",
    "- Lists preserve the order of data, unlike sets where order does not matter.\n",
    "- To access a specific value in a list, you use its index, starting from 0.\n",
    "- Python allows negative indices to access values from the end of a list, where -1 is the last item.\n",
    "- Slicing allows you to retrieve a range of values from a list, with the start index included and the end index excluded.\n",
    "- Lists in Python can contain different data types (integers, booleans, strings, floats) and even other lists, unlike some other languages that require lists to have uniform data types.\n",
    "\n",
    "\n",
    "Video 2: #Key Takeaways from List Comprehensions in Python\n",
    "\n",
    "1. **List Comprehension Syntax**\n",
    "   - A list comprehension is a concise way to create a list using the format:\n",
    "     ```python\n",
    "     [expression for item in iterable]\n",
    "     ```\n",
    "   - Example: `[n for n in nums]` creates a copy of the list `nums`.\n",
    "\n",
    "2. **Readable and Concise**\n",
    "   - List comprehensions are easier to read and write compared to traditional `for` loops. They allow you to condense the logic into a single line.\n",
    "   - Example: Instead of writing a full loop to append squares of numbers, you can write:\n",
    "     ```python\n",
    "     [n * n for n in nums]\n",
    "     ```\n",
    "\n",
    "3. **Handling Conditions in Comprehensions**\n",
    "   - You can include conditions in list comprehensions to filter elements.\n",
    "   - Example: `[n for n in nums if n % 2 == 0]` returns only the even numbers from `nums`.\n",
    "\n",
    "4. **Comparison to `map` and `lambda` Functions**\n",
    "   - While `map()` with `lambda` functions can be used to modify lists, list comprehensions are often more readable and intuitive.\n",
    "   - Example:\n",
    "     ```python\n",
    "     map(lambda n: n * n, nums)\n",
    "     ```\n",
    "     is harder to read than the list comprehension equivalent:\n",
    "     ```python\n",
    "     [n * n for n in nums]\n",
    "     ```\n",
    "\n",
    "5. **Readability Over `map()`/`lambda`**\n",
    "   - List comprehensions are preferred for readability, especially for beginners, as the syntax directly expresses the transformation or filtering operation being done.\n",
    "\n",
    "6. **Using Multiple Loops in a List Comprehension**\n",
    "   - You can use multiple `for` loops within a single list comprehension to generate combinations.\n",
    "   - Example: `[letter + str(number) for letter in 'ABC' for number in range(4)]` generates all combinations like `a0, a1, a2, a3, b0, b1, b2, b3, ...`.\n",
    "\n",
    "7. **Avoiding `map()`, `filter()`, and `lambda` for Simplicity**\n",
    "   - In many cases, you can replace `map()`, `filter()`, and `lambda` with list comprehensions, simplifying the code and improving its readability.\n",
    "\n",
    "8. **Efficiency Considerations**\n",
    "   - List comprehensions are often more efficient than using `for` loops, as they are optimized for creating lists in a single line of code.\n",
    "\n"
   ]
  },
  {
   "cell_type": "code",
   "execution_count": 3,
   "id": "f112955e",
   "metadata": {},
   "outputs": [
    {
     "name": "stdout",
     "output_type": "stream",
     "text": [
      "Original List: [1, 2, 3, 4, 5, 6, 7, 8, 9, 10, 11, 12, 13, 14, 15, 16, 17, 18, 19, 20, 21, 22, 23, 24, 25, 26, 27, 28, 29, 30]\n",
      "Filtered List (divisible by 3 but not by 5): [3, 6, 9, 12, 18, 21, 24, 27]\n"
     ]
    }
   ],
   "source": [
    "#Homework Hack 2 \n",
    "# Initialize a list containing numbers from 1 to 30\n",
    "numbers = list(range(1, 31))\n",
    "\n",
    "# Filter out numbers divisible by 3 but not by 5\n",
    "filtered_numbers = [num for num in numbers if num % 3 == 0 and num % 5 != 0]\n",
    "\n",
    "# Print both the original and filtered lists\n",
    "print(\"Original List:\", numbers)\n",
    "print(\"Filtered List (divisible by 3 but not by 5):\", filtered_numbers)\n"
   ]
  },
  {
   "cell_type": "code",
   "execution_count": null,
   "id": "0f1a5d01",
   "metadata": {},
   "outputs": [
    {
     "name": "stdout",
     "output_type": "stream",
     "text": [
      "CSV file 'spotify_global_streaming_data_2024.csv' has been created.\n"
     ]
    }
   ],
   "source": [
    "import pandas as pd\n",
    "\n",
    "# Sample data to create the CSV file\n",
    "data = {\n",
    "    'song_name': ['Blinding Lights', 'Shape of You', 'Levitating', 'As It Was', 'Stay'],\n",
    "    'streams': [32000000, 35000000, 15000000, 8000000, 12000000]\n",
    "}\n",
    "\n",
    "# Create a DataFrame from the data\n",
    "df = pd.DataFrame(data)\n",
    "\n",
    "# Save the DataFrame to a CSV file\n",
    "df.to_csv('spotify_global_streaming_data_2024.csv', index=False)\n",
    "\n",
    "print(\"CSV file 'spotify_global_streaming_data_2024.csv' has been created.\")\n",
    "\n"
   ]
  },
  {
   "cell_type": "code",
   "execution_count": null,
   "id": "fc993ac8",
   "metadata": {},
   "outputs": [
    {
     "name": "stdout",
     "output_type": "stream",
     "text": [
      "Songs with over 10 million streams:\n",
      "         song_name   streams\n",
      "0  Blinding Lights  32000000\n",
      "1     Shape of You  35000000\n",
      "2       Levitating  15000000\n",
      "4             Stay  12000000\n"
     ]
    }
   ],
   "source": [
    "#Homework Hack 3\n",
    "import pandas as pd\n",
    "\n",
    "# Define the function to filter Spotify data\n",
    "def filter_spotify_data(csv_file):\n",
    "    # Read the CSV file into a DataFrame\n",
    "    data = pd.read_csv(csv_file)\n",
    "    \n",
    "    # Filter the data to return songs with more than 10 million streams\n",
    "    filtered_data = data[data['streams'] > 10000000]\n",
    "    \n",
    "    # Display the filtered data\n",
    "    print(\"Songs with over 10 million streams:\")\n",
    "    print(filtered_data)\n",
    "\n",
    "# Call the function with the CSV file path\n",
    "filter_spotify_data('spotify_global_streaming_data_2024.csv')\n"
   ]
  },
  {
   "cell_type": "markdown",
   "id": "86e0beab",
   "metadata": {},
   "source": [
    "## Review questions:\n",
    "1. Explain what lists are in Python, including how to modify and manipulate them.\n",
    "In Python, lists are ordered collections of items, which can be of any data type, such as integers, strings, or even other lists. Lists are defined by enclosing elements in square brackets [], and items are separated by commas.\n",
    "\n",
    "Modifying and Manipulating Lists:\n",
    "Accessing Elements: You can access list elements by their index. For example, my_list[0] returns the first element.\n",
    "\n",
    "Modifying Elements: You can modify elements using their index, such as my_list[0] = 10, which changes the first element to 10.\n",
    "\n",
    "Appending Items: You can add items to the end of the list with append(). For example, my_list.append(5) adds 5 to the list.\n",
    "\n",
    "Inserting Items: You can insert an item at a specific index with insert(). For example, my_list.insert(1, 8) inserts 8 at index 1.\n",
    "\n",
    "Removing Items: Items can be removed using methods like remove(), which removes the first occurrence of a specified item, or pop(), which removes the item at a specific index.\n",
    "\n",
    "Slicing: Lists can be sliced to get a sublist. For example, my_list[1:3] gives a sublist from index 1 to 2 (excluding 3).\n",
    "\n",
    "Concatenation and Repetition: You can concatenate lists with + and repeat lists using *. For example, my_list + [7, 8] adds two new elements to the list, and my_list * 2 duplicates the list.\n",
    "\n",
    "List Comprehensions: This is a shorthand way to create or modify lists. For example, [x*2 for x in my_list] creates a new list with each element doubled.\n",
    "\n",
    "2. Provide a real-world scenario where a filtering algorithm might be applied.\n",
    "A real-world scenario for a filtering algorithm is email spam detection. In this case, a filtering algorithm is used to identify and sort out spam emails from regular emails. The algorithm might filter out emails containing certain keywords (like \"free money\" or \"urgent\") or identify patterns such as an unusually large number of emails sent in a short time, which could indicate spam behavior. By filtering out these unwanted emails, users can avoid wasting time on irrelevant content.\n",
    "\n",
    "3. Discuss why analyzing the efficiency of filtering algorithms is important for software development.\n",
    "Analyzing the efficiency of filtering algorithms is crucial for several reasons:\n",
    "\n",
    "Performance Optimization: Inefficient algorithms can slow down applications, especially when dealing with large datasets. In applications like search engines or email clients, filtering millions of items quickly is essential to provide a smooth user experience.\n",
    "\n",
    "Resource Management: Efficient algorithms use fewer system resources (CPU, memory), which is important when working with large datasets or running on limited hardware, like mobile devices.\n",
    "\n",
    "Scalability: As software scales (more data or more users), the efficiency of algorithms ensures that the system remains responsive. Inefficient algorithms might work for small datasets but fail as the data grows.\n",
    "\n",
    "User Experience: If filtering operations take too long, users might experience delays, which could negatively impact the application's usability and reputation. Analyzing efficiency helps ensure that filtering tasks complete quickly, maintaining a good user experience.\n",
    "\n",
    "Cost Efficiency: In cloud computing or distributed systems, inefficient algorithms can lead to higher operational costs due to increased resource consumption. By optimizing algorithms, companies can reduce computational costs.\n",
    "\n",
    "In summary, efficiency is key in filtering algorithms to ensure software runs smoothly, scales well, and meets user expectations.\n",
    "\n",
    "\n",
    "\n",
    "\n",
    "\n",
    "\n",
    "\n",
    "\n",
    "\n"
   ]
  }
 ],
 "metadata": {
  "kernelspec": {
   "display_name": "venv",
   "language": "python",
   "name": "python3"
  },
  "language_info": {
   "codemirror_mode": {
    "name": "ipython",
    "version": 3
   },
   "file_extension": ".py",
   "mimetype": "text/x-python",
   "name": "python",
   "nbconvert_exporter": "python",
   "pygments_lexer": "ipython3",
   "version": "3.12.3"
  }
 },
 "nbformat": 4,
 "nbformat_minor": 5
}
