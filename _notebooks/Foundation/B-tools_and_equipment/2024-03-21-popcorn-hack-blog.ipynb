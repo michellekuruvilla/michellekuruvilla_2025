{
 "cells": [
  {
   "cell_type": "raw",
   "metadata": {
    "vscode": {
     "languageId": "raw"
    }
   },
   "source": [
    "---\n",
    "layout: post\n",
    "title:  Popcorn Hack Completion Blog\n",
    "description: My popcorn hack blog #2\n",
    "permalink: /popcorns\n",
    "---"
   ]
  },
  {
   "cell_type": "markdown",
   "metadata": {
    "vscode": {
     "languageId": "raw"
    }
   },
   "source": [
    "## Popcorn Hack 1:\n",
    "Question: Which of the following actions are likely to be helpful in reducing the digital divide? Select two answers.\n",
    "\n",
    "Options:\n",
    "\n",
    "1. Designing new technologies intended only for advanced users\n",
    "This would likely increase the digital divide because it would cater only to a specific group of users who already have advanced skills, rather than helping bridge the gap for others.\n",
    "\n",
    "2. Designing new technologies to be accessible to individuals with different physical abilities\n",
    "This is a good choice. Making technologies accessible to individuals with different physical abilities ensures that a larger portion of the population can use and benefit from them.\n",
    "\n",
    "3. Implementing government regulations restricting citizens’ access to Web content\n",
    "This would likely worsen the digital divide, as restricting access to information could make it harder for marginalized groups to learn and participate in the digital world.\n",
    "\n",
    "4.  Having world governments support the construction of network infrastructure\n",
    "This is another great choice. Providing support for network infrastructure can help expand internet access to underserved areas, reducing the digital divide.\n",
    "\n",
    "Correct answers:\n",
    "\n",
    "2. Designing new technologies to be accessible to individuals with different physical abilities\n",
    "\n",
    "4. Having world governments support the construction of network infrastructure\n",
    "\n",
    "Explanation:\n",
    "These actions help reduce the digital divide by making technology usable for a broader population and ensuring internet access is available in more areas. Accessible design allows people with disabilities to engage with technology, while government support for infrastructure improves connectivity in underserved regions. \n",
    "\n",
    "## Popcorn Hack 2:\n",
    "How would you attempt to fix the digital divide or prevent it from being as prevalent in our community? What are some things that are already being done? What are some things we can add? Explain.\n",
    "\n",
    "To address the digital divide, I would focus on improving access to both technology and education. Here are a few steps to tackle this issue:\n",
    "\n",
    "What’s already being done:\n",
    "\n",
    "Government programs: Some governments have started initiatives to expand broadband internet access, especially in rural and underserved areas, to reduce the access gap. Programs like E-Rate in the U.S. help bring internet access to schools and libraries in underserved communities.\n",
    "\n",
    "Non-profit organizations: Many organizations work to provide affordable technology to low-income families and promote digital literacy programs, such as One Laptop Per Child or Tech Goes Home.\n",
    "\n",
    "What can be added:\n",
    "\n",
    "Subsidized or free internet programs: Expanding internet affordability for low-income communities could have a huge impact. Local governments or organizations could partner with ISPs to offer subsidized or free internet access to low-income households.\n",
    "\n",
    "Digital literacy education: Providing educational programs to help people learn how to use technology safely and effectively is crucial. This could be done through after-school programs, online courses, or community centers.\n",
    "\n",
    "Mobile technology solutions: In many areas, mobile phones are the only access to the internet. Designing mobile-first solutions for learning, job searching, and government services could help bridge the gap.\n",
    "\n",
    "Collaboration with tech companies: Technology companies could collaborate more with schools and community centers to provide access to devices, like laptops or tablets, and even offer online coding, digital design, or STEM workshops.\n",
    "\n",
    "By implementing these measures, we can work to ensure everyone has the opportunity to participate in the digital world, helping to reduce the digital divide.\n",
    "\n",
    "\n",
    "\n",
    "\n",
    "\n",
    "\n",
    "\n",
    "\n",
    "\n",
    "\n"
   ]
  },
  {
   "cell_type": "code",
   "execution_count": 9,
   "metadata": {},
   "outputs": [
    {
     "name": "stdout",
     "output_type": "stream",
     "text": [
      "/bin/python\n"
     ]
    }
   ],
   "source": [
    "import sys\n",
    "print(sys.executable)"
   ]
  },
  {
   "cell_type": "code",
   "execution_count": 11,
   "metadata": {},
   "outputs": [
    {
     "ename": "ModuleNotFoundError",
     "evalue": "No module named 'pandas'",
     "output_type": "error",
     "traceback": [
      "\u001b[0;31m---------------------------------------------------------------------------\u001b[0m",
      "\u001b[0;31mModuleNotFoundError\u001b[0m                       Traceback (most recent call last)",
      "Cell \u001b[0;32mIn[11], line 1\u001b[0m\n\u001b[0;32m----> 1\u001b[0m \u001b[38;5;28;01mimport\u001b[39;00m \u001b[38;5;21;01mpandas\u001b[39;00m \u001b[38;5;28;01mas\u001b[39;00m \u001b[38;5;21;01mpd\u001b[39;00m\n\u001b[1;32m      3\u001b[0m data \u001b[38;5;241m=\u001b[39m pd\u001b[38;5;241m.\u001b[39mread_csv(\u001b[38;5;124m\"\u001b[39m\u001b[38;5;124minternet_users.csv\u001b[39m\u001b[38;5;124m\"\u001b[39m)\u001b[38;5;241m.\u001b[39mdrop(columns\u001b[38;5;241m=\u001b[39m[\u001b[38;5;124m'\u001b[39m\u001b[38;5;124mNotes\u001b[39m\u001b[38;5;124m'\u001b[39m, \u001b[38;5;124m'\u001b[39m\u001b[38;5;124mYear.2\u001b[39m\u001b[38;5;124m'\u001b[39m, \u001b[38;5;124m'\u001b[39m\u001b[38;5;124mUsers (CIA)\u001b[39m\u001b[38;5;124m'\u001b[39m, \u001b[38;5;124m'\u001b[39m\u001b[38;5;124mRate (ITU)\u001b[39m\u001b[38;5;124m'\u001b[39m, \u001b[38;5;124m'\u001b[39m\u001b[38;5;124mYear.1\u001b[39m\u001b[38;5;124m'\u001b[39m]) \u001b[38;5;66;03m# Drop extra columns: we will not be using these\u001b[39;00m\n\u001b[1;32m      5\u001b[0m data_cleaned \u001b[38;5;241m=\u001b[39m data\u001b[38;5;241m.\u001b[39mdropna() \u001b[38;5;66;03m# Drop rows with NaN (aka blank) values\u001b[39;00m\n",
      "\u001b[0;31mModuleNotFoundError\u001b[0m: No module named 'pandas'"
     ]
    }
   ],
   "source": [
    "import pandas as pd\n",
    "\n",
    "data = pd.read_csv(\"internet_users.csv\").drop(columns=['Notes', 'Year.2', 'Users (CIA)', 'Rate (ITU)', 'Year.1']) # Drop extra columns: we will not be using these\n",
    "\n",
    "data_cleaned = data.dropna() # Drop rows with NaN (aka blank) values\n",
    "\n",
    "print(data_cleaned.head()) # Display the first few rows of the cleaned data\n",
    "\n",
    "# print(len(data)) # Check num of rows before removing blank rows\n",
    "# print(len(data_cleaned)) # Check num of rows after removing blank rows\n",
    "     "
   ]
  },
  {
   "cell_type": "code",
   "execution_count": 1,
   "metadata": {},
   "outputs": [
    {
     "ename": "ModuleNotFoundError",
     "evalue": "No module named 'pandas'",
     "output_type": "error",
     "traceback": [
      "\u001b[0;31m---------------------------------------------------------------------------\u001b[0m",
      "\u001b[0;31mModuleNotFoundError\u001b[0m                       Traceback (most recent call last)",
      "Cell \u001b[0;32mIn[1], line 1\u001b[0m\n\u001b[0;32m----> 1\u001b[0m \u001b[38;5;28;01mimport\u001b[39;00m \u001b[38;5;21;01mpandas\u001b[39;00m \u001b[38;5;28;01mas\u001b[39;00m \u001b[38;5;21;01mpd\u001b[39;00m\n\u001b[1;32m      3\u001b[0m \u001b[38;5;66;03m# Load and clean the data\u001b[39;00m\n\u001b[1;32m      4\u001b[0m data \u001b[38;5;241m=\u001b[39m pd\u001b[38;5;241m.\u001b[39mread_csv(\u001b[38;5;124m\"\u001b[39m\u001b[38;5;124minternet_users.csv\u001b[39m\u001b[38;5;124m\"\u001b[39m)\u001b[38;5;241m.\u001b[39mdrop(columns\u001b[38;5;241m=\u001b[39m[\u001b[38;5;124m'\u001b[39m\u001b[38;5;124mNotes\u001b[39m\u001b[38;5;124m'\u001b[39m, \u001b[38;5;124m'\u001b[39m\u001b[38;5;124mYear.2\u001b[39m\u001b[38;5;124m'\u001b[39m, \u001b[38;5;124m'\u001b[39m\u001b[38;5;124mUsers (CIA)\u001b[39m\u001b[38;5;124m'\u001b[39m, \u001b[38;5;124m'\u001b[39m\u001b[38;5;124mRate (ITU)\u001b[39m\u001b[38;5;124m'\u001b[39m, \u001b[38;5;124m'\u001b[39m\u001b[38;5;124mYear.1\u001b[39m\u001b[38;5;124m'\u001b[39m])\n",
      "\u001b[0;31mModuleNotFoundError\u001b[0m: No module named 'pandas'"
     ]
    }
   ],
   "source": [
    "import pandas as pd\n",
    "\n",
    "# Load and clean the data\n",
    "data = pd.read_csv(\"internet_users.csv\").drop(columns=['Notes', 'Year.2', 'Users (CIA)', 'Rate (ITU)', 'Year.1'])\n",
    "data_cleaned = data.dropna()  # Remove rows with missing values\n",
    "\n",
    "# Extract relevant columns\n",
    "y = data_cleaned['Rate (WB)']  # Internet usage percentage\n",
    "name = data_cleaned['Location']  # Country names\n",
    "\n",
    "# Loop through the data and print the required output\n",
    "for country, rate in zip(name, y):\n",
    "    status = \"doing great\" if rate > 70 else \"needs improvement\"\n",
    "    print(f\"{country}: {rate}%: {status}\")\n"
   ]
  }
 ],
 "metadata": {
  "kernelspec": {
   "display_name": "Python 3",
   "language": "python",
   "name": "python3"
  },
  "language_info": {
   "codemirror_mode": {
    "name": "ipython",
    "version": 3
   },
   "file_extension": ".py",
   "mimetype": "text/x-python",
   "name": "python",
   "nbconvert_exporter": "python",
   "pygments_lexer": "ipython3",
   "version": "3.12.3"
  }
 },
 "nbformat": 4,
 "nbformat_minor": 2
}
