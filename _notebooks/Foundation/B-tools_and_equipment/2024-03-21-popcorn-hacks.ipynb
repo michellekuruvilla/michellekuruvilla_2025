{
 "cells": [
  {
   "cell_type": "raw",
   "metadata": {
    "vscode": {
     "languageId": "raw"
    }
   },
   "source": [
    "---\n",
    "layout: post\n",
    "title:  Popcorn Hack Completion\n",
    "description: \n",
    "permalink: /popcornhacks\n",
    "comments: true\n",
    "---"
   ]
  },
  {
   "cell_type": "markdown",
   "metadata": {},
   "source": [
    "## Popcorn Hack #1 For Team Teach: 5.1 Beneficial/Harmful Effects\n",
    "\n",
    "How do technological innovations impact society in both positive and negative ways? provide an example.\n",
    "\n",
    "Technological innovations impact society in both positive and negative ways by improving efficiency, convenience, and connectivity while also introducing challenges like job displacement, privacy concerns, and ethical dilemmas.\n",
    "\n",
    "Example:\n",
    "The rise of social media has positively impacted society by enhancing global communication, enabling instant information sharing, and providing a platform for social movements. However, it also has negative effects, such as spreading misinformation, increasing mental health issues, and reducing face-to-face interactions.."
   ]
  },
  {
   "cell_type": "markdown",
   "metadata": {},
   "source": [
    "## Popcorn Hack # 2 For Team Teach: 5.1 Beneficial/Harmful Effects\n",
    "What is the meaning of negative effects of technology, and how can we use responsible programming to avoid and reduce these unintended harmful impacts\n",
    "\n",
    "Meaning of Negative Effects of Technology\n",
    "Negative effects of technology refer to the unintended harmful consequences that arise from technological advancements. These effects can include:\n",
    "\n",
    "Job displacement due to automation.\n",
    "Privacy violations through data collection and surveillance.\n",
    "Bias and discrimination in AI decision-making.\n",
    "Cybersecurity threats, such as hacking and data breaches.\n",
    "Mental health concerns, like addiction to social media and screen time overuse.\n",
    "How Responsible Programming Can Reduce These Impacts\n",
    "Responsible programming involves ethical coding practices that prioritize fairness, transparency, and security. Some ways to minimize negative effects include:\n",
    "\n",
    "Bias Detection and Fairness – Ensuring AI and machine learning models are trained on diverse, unbiased datasets to prevent discrimination.\n",
    "Data Privacy and Security – Implementing encryption, anonymization, and strict access controls to protect user data.\n",
    "Transparency and Explainability – Designing AI systems that provide clear explanations for their decisions, allowing users to understand and challenge outcomes.\n",
    "Human Oversight – Keeping humans in the loop for critical decision-making to prevent AI from making harmful autonomous choices.\n",
    "Cybersecurity Measures – Regularly testing and updating systems to defend against hacking and vulnerabilities.\n",
    "By following these principles, technology can be developed in a way that maximizes benefits while reducing unintended harm.\n",
    "\n",
    "\n",
    "\n",
    "\n",
    "\n",
    "\n",
    "\n",
    "\n",
    "\n",
    "\n",
    "\n",
    "\n",
    "\n",
    "\n"
   ]
  },
  {
   "cell_type": "markdown",
   "metadata": {},
   "source": [
    "## Popcorn Hack # 3  Extra Credit hack\n",
    "Why is it important to understand the unintended consequences of technology, especially dopamine-driven technology?\n",
    "\n",
    "Why Understanding Unintended Consequences of Dopamine-Driven Tech Matters\n",
    "Dopamine-driven technology (e.g., social media, gaming) is designed to maximize engagement, often leading to:\n",
    "\n",
    "Addiction & Overuse – Encourages compulsive behavior, reducing focus and real-world interactions.\n",
    "Mental Health Issues – Linked to anxiety, depression, and attention problems.\n",
    "Misinformation & Manipulation – Algorithms prioritize engagement over accuracy, spreading misleading content.\n",
    "Understanding these effects helps develop healthier tech habits and responsible innovation."
   ]
  },
  {
   "cell_type": "markdown",
   "metadata": {
    "vscode": {
     "languageId": "raw"
    }
   },
   "source": [
    "## Homework Hack 1\n",
    "Rethinking AI for New Uses\n",
    "Chosen AI Technology: Facial Recognition\n",
    "Original Use Case\n",
    "Facial recognition technology was originally designed for security and authentication purposes. It is widely used in unlocking smartphones, verifying identities at airports, and enhancing surveillance for law enforcement.\n",
    "\n",
    "New Use Case: AI for Personalized Healthcare Monitoring\n",
    "Instead of security, facial recognition could be repurposed to monitor patients' health conditions in hospitals or at home. AI could analyze facial features for early signs of illness, emotional distress, or symptoms of conditions like stroke, Parkinson’s disease, or even dehydration.\n",
    "\n",
    "Impact Analysis\n",
    "✅ Benefits:\n",
    "\n",
    "Early Detection of Health Issues – AI could detect slight facial asymmetries (indicative of stroke) or changes in skin tone (suggesting dehydration or fever), allowing for earlier intervention.\n",
    "\n",
    "Non-Invasive Monitoring – Unlike traditional medical tests, facial recognition can passively monitor patients without needing physical contact, making it ideal for elderly or high-risk individuals.\n",
    "\n",
    "⚠️ Risks:\n",
    "\n",
    "Privacy Concerns – Continuous facial tracking could lead to concerns about personal privacy, especially if data is misused or hacked.\n",
    "\n",
    "False Positives & Bias – AI might misinterpret facial expressions or features, leading to unnecessary medical alarms or misdiagnoses, especially across different demographics."
   ]
  },
  {
   "cell_type": "markdown",
   "metadata": {},
   "source": [
    "## Homework Hack 2\n",
    "Ethical AI Coding Challenge\n",
    "Identified Problem: Bias in Hiring Algorithms\n",
    "Risk Description\n",
    "AI-powered hiring systems are used to screen job applicants, but they can unintentionally reinforce biases present in historical hiring data. If past hiring decisions favored certain demographics, the AI may continue to prioritize those groups while unfairly disadvantaging others. This can lead to discrimination, lack of diversity, and missed opportunities for qualified candidates.\n",
    "\n",
    "Proposed Solutions\n",
    "Bias Detection & Fairness Algorithms – Implement fairness constraints in machine learning models, such as reweighting training data or using adversarial debiasing techniques. Regular audits should be conducted to check for biased patterns in hiring recommendations.\n",
    "\n",
    "Transparent AI & Human Oversight – Instead of fully automating hiring, AI should assist human recruiters rather than replace them. AI decisions should be explainable, allowing hiring managers to review and override recommendations when necessary.\n",
    "\n",
    "Reflection\n",
    "Ethical AI development is crucial because poorly designed algorithms can reinforce discrimination, spread misinformation, or make unfair decisions. Ensuring transparency, fairness, and accountability in AI systems helps build trust and prevents harm. As AI becomes more integrated into society, developers must prioritize ethical considerations to ensure technology benefits everyone equally."
   ]
  },
  {
   "cell_type": "markdown",
   "metadata": {},
   "source": [
    "## Homework Hack 3\n",
    "AI & Unintended Consequences Research Task\n",
    "Example: YouTube’s AI and the Spread of Misinformation\n",
    "Summary of What Happened\n",
    "YouTube’s AI recommendation algorithm was designed to keep users engaged by suggesting videos similar to what they had previously watched. However, this led to an unintended consequence: the system often promoted sensationalist, misleading, or extremist content because such videos kept users on the platform longer. As a result, misinformation spread rapidly, influencing public opinion on topics like politics, health, and science.\n",
    "\n",
    "Evaluation of the Response\n",
    "In response to growing concerns, YouTube made several changes to its recommendation system. The company adjusted its algorithm to downrank misleading and extremist content while promoting authoritative sources, especially for topics like elections and health. Additionally, they introduced fact-checking labels and limited monetization for creators spreading false information.\n",
    "\n",
    "Proposed Preventative Measure\n",
    "Developers could have avoided this problem by prioritizing content credibility in the AI’s ranking criteria from the beginning. Implementing human-in-the-loop moderation and using AI ethics reviews during development would have helped detect the issue earlier. Additionally, transparency in AI decision-making (such as allowing users to understand why they received a recommendation) could have reduced the impact of misinformation."
   ]
  }
 ],
 "metadata": {
  "language_info": {
   "name": "python"
  }
 },
 "nbformat": 4,
 "nbformat_minor": 2
}
