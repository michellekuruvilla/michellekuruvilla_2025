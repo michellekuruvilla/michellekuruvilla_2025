{
 "cells": [
  {
   "cell_type": "markdown",
   "id": "192d690a",
   "metadata": {},
   "source": [
    "---\n",
    "layout: post\n",
    "title: Big O homework \n",
    "description: This is a Jupyter Notebook where I blog my popcorn hacks.\n",
    "permalink: /bigo/\n",
    "comments: true \n",
    "---"
   ]
  },
  {
   "cell_type": "markdown",
   "id": "e60f692e",
   "metadata": {},
   "source": [
    "## Popcorn Hack 1, constant time"
   ]
  },
  {
   "cell_type": "code",
   "execution_count": 1,
   "id": "622da317",
   "metadata": {},
   "outputs": [
    {
     "name": "stdout",
     "output_type": "stream",
     "text": [
      "3\n"
     ]
    }
   ],
   "source": [
    "arr = [1, 2, 3, 4, 5]\n",
    "print(arr[2])  # Indexing is O(1), and lists are 0-indexed, so index 2 is the third item\n"
   ]
  },
  {
   "cell_type": "markdown",
   "id": "8bacec8f",
   "metadata": {},
   "source": [
    "## Popcorn Hack 1, linear time "
   ]
  },
  {
   "cell_type": "code",
   "execution_count": 2,
   "id": "b9a27939",
   "metadata": {},
   "outputs": [
    {
     "name": "stdout",
     "output_type": "stream",
     "text": [
      "1\n",
      "2\n",
      "3\n",
      "4\n",
      "5\n"
     ]
    }
   ],
   "source": [
    "for item in arr:\n",
    "    print(item)  # Loops over each item once — linear time\n"
   ]
  },
  {
   "cell_type": "markdown",
   "id": "363a0f7f",
   "metadata": {},
   "source": [
    "## Popcorn Hack 2 "
   ]
  },
  {
   "cell_type": "code",
   "execution_count": 3,
   "id": "ba996a4d",
   "metadata": {},
   "outputs": [
    {
     "name": "stdout",
     "output_type": "stream",
     "text": [
      "(1, 2)\n",
      "(1, 3)\n",
      "(2, 3)\n"
     ]
    }
   ],
   "source": [
    "def print_unique_pairs(arr):\n",
    "    for i in range(len(arr)):\n",
    "        for j in range(i + 1, len(arr)):\n",
    "            print(f\"({arr[i]}, {arr[j]})\")\n",
    "\n",
    "# Example usage\n",
    "arr = [1, 2, 3]\n",
    "print_unique_pairs(arr)\n"
   ]
  },
  {
   "cell_type": "markdown",
   "id": "a39defa5",
   "metadata": {},
   "source": [
    "## Popcorn Hack 2 continued-complexity explained \n",
    "The time complexity of this code is O(log n).\n",
    "\n",
    "Explanation:\n",
    "Binary search works by repeatedly dividing the search space in half. With each comparison, it eliminates half of the remaining elements. Because of this divide-and-conquer approach, the number of operations grows logarithmically relative to the size of the input — not linearly or quadratically. This makes binary search highly efficient for large sorted arrays."
   ]
  },
  {
   "cell_type": "markdown",
   "id": "addf373a",
   "metadata": {},
   "source": [
    "## Popcorn hack 3\n",
    "1) b, factorial time \n",
    "explanation: Factorial time — O(n!) — grows extremely fast. It becomes impractical even for relatively small inputs (like n = 20). It’s often seen in brute-force algorithms for problems like the traveling salesman.\n",
    "2) c, quadratic time\n",
    "explanation: Nested loops where each loop runs up to n usually result in O(n²), which is quadratic time. For example:"
   ]
  },
  {
   "cell_type": "markdown",
   "id": "52ad21e6",
   "metadata": {},
   "source": [
    "## Homework Hack"
   ]
  },
  {
   "cell_type": "code",
   "execution_count": 5,
   "id": "52b129dc",
   "metadata": {},
   "outputs": [],
   "source": [
    "def homework_hack(arr, complexity):\n",
    "    if complexity == \"constant\":\n",
    "        # Return the first item of the array (O(1) operation)\n",
    "        return arr[0] if arr else None\n",
    "    elif complexity == \"linear\":\n",
    "        # Print all the items in the array (O(n) operation)\n",
    "        for item in arr:\n",
    "            print(item)\n",
    "    elif complexity == \"quadratic\":\n",
    "        # Print all pairs of items in the array (O(n^2) operation)\n",
    "        for i in range(len(arr)):\n",
    "            for j in range(len(arr)):\n",
    "                print(arr[i], arr[j])\n",
    "    else:\n",
    "        print(\"Invalid complexity type. Use 'constant', 'linear', or 'quadratic'.\")\n"
   ]
  }
 ],
 "metadata": {
  "kernelspec": {
   "display_name": "venv",
   "language": "python",
   "name": "python3"
  },
  "language_info": {
   "codemirror_mode": {
    "name": "ipython",
    "version": 3
   },
   "file_extension": ".py",
   "mimetype": "text/x-python",
   "name": "python",
   "nbconvert_exporter": "python",
   "pygments_lexer": "ipython3",
   "version": "3.12.3"
  }
 },
 "nbformat": 4,
 "nbformat_minor": 5
}
