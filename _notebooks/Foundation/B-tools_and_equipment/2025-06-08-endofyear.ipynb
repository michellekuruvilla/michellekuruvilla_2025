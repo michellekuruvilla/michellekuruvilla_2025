{
 "cells": [
  {
   "cell_type": "markdown",
   "id": "d395306c",
   "metadata": {},
   "source": [
    "---\n",
    "layout: post\n",
    "title: End of The Year Personal Blog\n",
    "description: This is hacks\n",
    "permalink: /problem/\n",
    "comments: true \n",
    "---"
   ]
  }
 ],
 "metadata": {
  "language_info": {
   "name": "python"
  }
 },
 "nbformat": 4,
 "nbformat_minor": 5
}
