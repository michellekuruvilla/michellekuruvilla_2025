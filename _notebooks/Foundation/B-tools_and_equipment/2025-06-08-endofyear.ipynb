{
 "cells": [
  {
   "cell_type": "markdown",
   "id": "d395306c",
   "metadata": {},
   "source": [
    "---\n",
    "layout: post\n",
    "title: End of The Year Personal Blog\n",
    "description: This is hacks\n",
    "permalink: /end/\n",
    "comments: true \n",
    "---"
   ]
  },
  {
   "cell_type": "markdown",
   "id": "4a7bb56d",
   "metadata": {},
   "source": [
    "## Linkdin N@M Extra Credit\n",
    "\n",
    "I asked my dad, John Kuruvilla, to post a comment on my behalf, as linkdin would kick me out of my account repeatedly even after several attempts. I asked him to write about how much of an impact computer science has had on me this year and just how much I have learned, and I also highlighted some of my favorite projects that I have worked on this year. "
   ]
  },
  {
   "cell_type": "markdown",
   "id": "6f531a17",
   "metadata": {
    "vscode": {
     "languageId": "plaintext"
    }
   },
   "source": [
    "# Blog: Overview of My Projects\n",
    "\n",
    "This year, I’ve worked on several projects that have helped me grow both as a developer and a creative thinker. These experiences gave me hands-on practice with fullstack development, frontend design, API integration, and user-centered thinking. Below are two of my standout projects.\n",
    "\n",
    "## Traveler Frontend: A Community-Powered Vacation Feature\n",
    "\n",
    "The **Traveler** project was built to help users share their favorite vacation destinations and explore new places based on others’ recommendations. I developed a feature connected to a **custom Vacation API** that allows users to:\n",
    "\n",
    "- Submit recommended travel destinations  \n",
    "- View suggestions posted by others  \n",
    "- Get inspired by user-submitted ideas on where to travel next\n",
    "\n",
    "<a href=\"https://annie0523.github.io/travelor_frontend/form.html\" style=\"display:inline-block; padding:10px 20px; background-color:#3498db; color:white; text-decoration:none; border-radius:5px; font-weight:bold;\">Add a Destination</a>\n",
    "\n",
    "This project strengthened my frontend development skills, including form handling, dynamic content updates, and API integration. I focused on making the feature intuitive, interactive, and driven by community input.\n",
    "\n",
    "## Health Media Project: Predicting Post Performance by Length\n",
    "\n",
    "In the **Health Media** project, I developed a feature that analyzes and predicts how well a post will perform based on its **length**. Using a Flask backend and data analysis logic, the tool provides feedback that helps content creators optimize their posts for better engagement.\n",
    "\n",
    "This project taught me how to work with structured data, build APIs for predictive tools, and connect the backend to a responsive frontend interface. I also learned how data-driven design can enhance user experience and improve decision-making.\n",
    "\n",
    "## Reflecting on the Process\n",
    "\n",
    "Both of these projects highlight my ability to build purposeful features that solve real problems. Whether helping people discover new destinations or improve their social media strategy, I always aim to combine technical skill with practical impact.\n"
   ]
  },
  {
   "cell_type": "markdown",
   "id": "a6a2d8e5",
   "metadata": {},
   "source": [
    "## Consistent Homework Completion and AP CSP Prep\n",
    "\n",
    "Throughout the year, I have been diligently completing all assigned homework for CSP. Each task, from lesson exercises to blog posts, built upon core programming and problem-solving concepts. This consistent practice strengthened my understanding of Python, JavaScript, Flask APIs, frontend-backend integration, and data structures.\n",
    "\n",
    "![Image](https://github.com/user-attachments/assets/301adbf4-a84c-459d-b535-769635f24835)\n",
    "![Image](https://github.com/user-attachments/assets/53a85db7-e8b7-41cb-8bc3-ba25349502db)\n",
    "![Image](https://github.com/user-attachments/assets/a9d812a3-67e5-406a-97fd-90d54bcad350)\n",
    "\n",
    "This commitment played a major role in helping me prepare for the AP Computer Science Principles exam. I was already familiar with the material, confident in my code-writing, and prepared to tackle both the Create Task and multiple choice questions."
   ]
  },
  {
   "cell_type": "markdown",
   "id": "4f5431bf",
   "metadata": {
    "vscode": {
     "languageId": "plaintext"
    }
   },
   "source": [
    "# Blog: Showcasing My Health Media Project\n",
    "\n",
    "Over the past year, I’ve had the opportunity to work on a project that blends data analysis, web development, and machine learning to solve a real-world problem. My **Health Media** project focuses on helping organizations like **Legoland** improve their social media engagement through data-driven insights.\n",
    "\n",
    "We showcased this project at **Night at the Museum (June 2025)**, where we walked visitors through our process and results. The interactive presentation demonstrated how organizations can better connect with their audiences by analyzing trends in post behavior.\n",
    "\n",
    "## Project Overview\n",
    "\n",
    "The goal of Health Media is to predict and improve engagement levels on social media platforms using a variety of tools and techniques. We gathered data in CSV format and applied machine learning models to uncover patterns and recommendations. Key features of our site include:\n",
    "\n",
    "- **Post Length Analysis** — Examines how word count affects reach and engagement  \n",
    "- **Hashtag Analysis** — Identifies which hashtags perform best  \n",
    "- **Post Frequency Tracking** — Shows how often to post for optimal visibility  \n",
    "- **Sentiment Analysis** — Evaluates the tone of captions and how it influences reactions  \n",
    "- **Post Timing Optimization** — Recommends ideal times of day for publishing  \n",
    "- **Photo and Visual Analysis** — Determines how imagery affects viewer interest  \n",
    "\n",
    "These features come together in an interactive platform designed to make data actionable and easy to understand.\n",
    "\n",
    "## Explore the Project\n",
    "\n",
    "To see the full project in action, visit the live site:  \n",
    "[https://open-coding-society.github.io/healthmedia/](https://open-coding-society.github.io/healthmedia/)\n",
    "\n",
    "This experience has not only strengthened my technical skills in machine learning and web development but also taught me the importance of building tools with real-world impact. I'm excited to continue developing solutions that help bridge the gap between data and decision-making.\n"
   ]
  },
  {
   "cell_type": "markdown",
   "id": "1b0d0173",
   "metadata": {
    "vscode": {
     "languageId": "plaintext"
    }
   },
   "source": [
    "# My Participation and Contributions\n",
    "\n",
    "Over the course of this year, I’ve been deeply involved in collaborative software development, consistently engaging with my team through GitHub. One of the key ways I’ve contributed is by actively creating and managing **35 GitHub issues** across multiple repositories.\n",
    "\n",
    "These issues ranged from bug tracking and UI suggestions to backend optimizations and deployment fixes. They reflect my commitment to maintaining quality, communicating with my team, and keeping our development process organized and agile.\n",
    "\n",
    "[![View My GitHub Issue](https://img.shields.io/badge/View%20My-GitHub%20Issue-blue?style=for-the-badge&logo=github)](https://github.com/michellekuruvilla/michellekuruvilla_2025/issues/21)\n",
    "\n",
    "Using GitHub Issues allowed me to:\n",
    "- Track bugs and enhancement ideas clearly\n",
    "- Assign tasks and collaborate with peers\n",
    "- Break large projects into manageable steps\n",
    "- Practice agile and iterative development methods\n",
    "\n",
    "This kind of structured participation has strengthened not only my technical skills but also my **project management**, **team communication**, and **problem-solving abilities** — all of which are critical in real-world engineering environments.\n"
   ]
  }
 ],
 "metadata": {
  "language_info": {
   "name": "python"
  }
 },
 "nbformat": 4,
 "nbformat_minor": 5
}
