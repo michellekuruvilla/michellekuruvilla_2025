{
 "cells": [
  {
   "cell_type": "raw",
   "id": "6502018c",
   "metadata": {
    "vscode": {
     "languageId": "raw"
    }
   },
   "source": [
    "---\n",
    "layout: post\n",
    "title: Binary Search Popcorn Hacks\n",
    "description: This is a Jupyter Notebook where I blog my popcorn hacks.\n",
    "permalink: /search/\n",
    "comments: true \n",
    "---"
   ]
  },
  {
   "cell_type": "markdown",
   "id": "04521b75",
   "metadata": {},
   "source": [
    "## Popcorn Hack 1\n",
    "Popcorn Hack 1 (from CB MC 2020)\n",
    "The procedure BinarySearch(numList, target) correctly implements a binary search algorithm on the list of numbers numList. The procedure returns an index here target occurs in numList, or -1 if target does not occur in numList.\n",
    "\n",
    "Which of the following conditions must be met in order for the procedure to work as intended? Explain why.\n",
    "\n",
    "a) The length of numList must be even\n",
    "b) The list numList must not contain any duplicate values\n",
    "c) The values in numList must be in sorted order\n",
    "d) The value of target must not be equal to -1\n",
    "\n",
    "## Answer: c) The values in numList must be in sorted order\n",
    "✅ Explanation:\n",
    "Binary search is an efficient algorithm that works by repeatedly dividing a sorted list in half to find the target value. For this method to work as intended, the list must be in sorted order (either ascending or descending, though usually ascending).\n",
    "\n",
    "Popcorn Hack 2\n",
    "Which of the following statements correctly describes a disadvantage of binary search compared to linear search? Explain why your answer is correct and why the others are wrong.\n",
    "\n",
    "a) Binary search takes more time on average than linear search  \n",
    "b) Binary search cannot be used on unsorted lists without modifications  \n",
    "c) Binary search always returns the first occurrence of the target  \n",
    "d) Binary search can only be used on lists with unique values  \n",
    "\n",
    "answer: b) Binary search cannot be used on unsorted lists without modifications\n",
    "✅ Explanation:\n",
    "Binary search is only effective on sorted lists. If the list is unsorted, binary search can't make correct decisions about which half to eliminate during the search. So unless you sort the list first, binary search won’t work properly.\n",
    "\n",
    "❌ Why the other options are wrong:\n",
    "a) Binary search takes more time on average than linear search\n",
    "→ False. Binary search is actually faster on average for large, sorted datasets — it runs in O(log n) time, while linear search takes O(n) time.\n",
    "\n",
    "c) Binary search always returns the first occurrence of the target\n",
    "→ False. Binary search finds an occurrence, but not necessarily the first. You would need to modify it if you specifically want the first occurrence.\n",
    "\n",
    "d) Binary search can only be used on lists with unique values\n",
    "→ False. Binary search works with duplicates; it just returns one of the matching indices.\n",
    "\n"
   ]
  },
  {
   "cell_type": "code",
   "execution_count": 1,
   "id": "b6bf9cb5",
   "metadata": {},
   "outputs": [
    {
     "name": "stdout",
     "output_type": "stream",
     "text": [
      "Price 1.25 found at index 2.\n",
      "Price 6.49 found at index 9.\n",
      "Price 10.0 not found.\n",
      "First few rows of sorted data:\n",
      "       Product  Price\n",
      "5       Pencil   0.75\n",
      "2       Eraser   0.99\n",
      "0          Pen   1.25\n",
      "4  Highlighter   1.75\n",
      "3        Ruler   2.50\n",
      "Original row count: 10\n",
      "Cleaned row count: 10\n"
     ]
    }
   ],
   "source": [
    "import pandas as pd\n",
    "\n",
    "# Binary Search Function\n",
    "def binary_search(arr, target):\n",
    "    left, right = 0, len(arr) - 1\n",
    "    while left <= right:\n",
    "        mid = (left + right) // 2\n",
    "        if arr[mid] == target:\n",
    "            return mid\n",
    "        elif arr[mid] < target:\n",
    "            left = mid + 1\n",
    "        else:\n",
    "            right = mid - 1\n",
    "    return -1  # If the element is not found\n",
    "\n",
    "# Load the dataset\n",
    "data = pd.read_csv(\"school_supplies.csv\")\n",
    "\n",
    "# Drop rows with missing values\n",
    "data_cleaned = data.dropna()\n",
    "\n",
    "# Sort the data by 'Price'\n",
    "data_sorted = data_cleaned.sort_values(by=\"Price\")\n",
    "\n",
    "# Extract sorted prices as a list\n",
    "price_list = data_sorted[\"Price\"].tolist()\n",
    "\n",
    "# Search for specific prices\n",
    "prices_to_search = [1.25, 6.49, 10.00]\n",
    "\n",
    "for price in prices_to_search:\n",
    "    index = binary_search(price_list, price)\n",
    "    if index != -1:\n",
    "        print(f\"Price {price} found at index {index}.\")\n",
    "    else:\n",
    "        print(f\"Price {price} not found.\")\n",
    "\n",
    "# Displaying the cleaned and sorted data\n",
    "print(\"First few rows of sorted data:\")\n",
    "print(data_sorted.head())\n",
    "print(\"Original row count:\", len(data))\n",
    "print(\"Cleaned row count:\", len(data_cleaned))\n"
   ]
  }
 ],
 "metadata": {
  "kernelspec": {
   "display_name": "venv",
   "language": "python",
   "name": "python3"
  },
  "language_info": {
   "codemirror_mode": {
    "name": "ipython",
    "version": 3
   },
   "file_extension": ".py",
   "mimetype": "text/x-python",
   "name": "python",
   "nbconvert_exporter": "python",
   "pygments_lexer": "ipython3",
   "version": "3.12.3"
  }
 },
 "nbformat": 4,
 "nbformat_minor": 5
}
